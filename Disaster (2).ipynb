{
  "nbformat": 4,
  "nbformat_minor": 0,
  "metadata": {
    "accelerator": "GPU",
    "colab": {
      "name": "Disaster.ipynb",
      "provenance": [],
      "collapsed_sections": []
    },
    "kernelspec": {
      "display_name": "Python 3",
      "name": "python3"
    },
    "language_info": {
      "name": "python"
    }
  },
  "cells": [
    {
      "cell_type": "code",
      "metadata": {
        "id": "Md7x8RX7RzTx"
      },
      "source": [
        "import spacy\n",
        "import numpy as np\n",
        "import pandas as pd \n",
        "from spacy.lang.en.stop_words import STOP_WORDS\n",
        "import string"
      ],
      "execution_count": 2,
      "outputs": []
    },
    {
      "cell_type": "code",
      "metadata": {
        "id": "2eaPPVcrSz2o"
      },
      "source": [
        "train=pd.read_csv('train.csv')\n",
        "test=pd.read_csv('test.csv')"
      ],
      "execution_count": 127,
      "outputs": []
    },
    {
      "cell_type": "code",
      "metadata": {
        "id": "G2Vpc4gsTODU"
      },
      "source": [
        "train=train[['text','target']]"
      ],
      "execution_count": 4,
      "outputs": []
    },
    {
      "cell_type": "code",
      "metadata": {
        "colab": {
          "base_uri": "https://localhost:8080/",
          "height": 419
        },
        "id": "Z6-Vcbt9TmWY",
        "outputId": "cad66fab-86d7-4d36-f6de-478861bb61d9"
      },
      "source": [
        "train"
      ],
      "execution_count": 5,
      "outputs": [
        {
          "output_type": "execute_result",
          "data": {
            "text/html": [
              "<div>\n",
              "<style scoped>\n",
              "    .dataframe tbody tr th:only-of-type {\n",
              "        vertical-align: middle;\n",
              "    }\n",
              "\n",
              "    .dataframe tbody tr th {\n",
              "        vertical-align: top;\n",
              "    }\n",
              "\n",
              "    .dataframe thead th {\n",
              "        text-align: right;\n",
              "    }\n",
              "</style>\n",
              "<table border=\"1\" class=\"dataframe\">\n",
              "  <thead>\n",
              "    <tr style=\"text-align: right;\">\n",
              "      <th></th>\n",
              "      <th>text</th>\n",
              "      <th>target</th>\n",
              "    </tr>\n",
              "  </thead>\n",
              "  <tbody>\n",
              "    <tr>\n",
              "      <th>0</th>\n",
              "      <td>Our Deeds are the Reason of this #earthquake M...</td>\n",
              "      <td>1</td>\n",
              "    </tr>\n",
              "    <tr>\n",
              "      <th>1</th>\n",
              "      <td>Forest fire near La Ronge Sask. Canada</td>\n",
              "      <td>1</td>\n",
              "    </tr>\n",
              "    <tr>\n",
              "      <th>2</th>\n",
              "      <td>All residents asked to 'shelter in place' are ...</td>\n",
              "      <td>1</td>\n",
              "    </tr>\n",
              "    <tr>\n",
              "      <th>3</th>\n",
              "      <td>13,000 people receive #wildfires evacuation or...</td>\n",
              "      <td>1</td>\n",
              "    </tr>\n",
              "    <tr>\n",
              "      <th>4</th>\n",
              "      <td>Just got sent this photo from Ruby #Alaska as ...</td>\n",
              "      <td>1</td>\n",
              "    </tr>\n",
              "    <tr>\n",
              "      <th>...</th>\n",
              "      <td>...</td>\n",
              "      <td>...</td>\n",
              "    </tr>\n",
              "    <tr>\n",
              "      <th>7608</th>\n",
              "      <td>Two giant cranes holding a bridge collapse int...</td>\n",
              "      <td>1</td>\n",
              "    </tr>\n",
              "    <tr>\n",
              "      <th>7609</th>\n",
              "      <td>@aria_ahrary @TheTawniest The out of control w...</td>\n",
              "      <td>1</td>\n",
              "    </tr>\n",
              "    <tr>\n",
              "      <th>7610</th>\n",
              "      <td>M1.94 [01:04 UTC]?5km S of Volcano Hawaii. htt...</td>\n",
              "      <td>1</td>\n",
              "    </tr>\n",
              "    <tr>\n",
              "      <th>7611</th>\n",
              "      <td>Police investigating after an e-bike collided ...</td>\n",
              "      <td>1</td>\n",
              "    </tr>\n",
              "    <tr>\n",
              "      <th>7612</th>\n",
              "      <td>The Latest: More Homes Razed by Northern Calif...</td>\n",
              "      <td>1</td>\n",
              "    </tr>\n",
              "  </tbody>\n",
              "</table>\n",
              "<p>7613 rows × 2 columns</p>\n",
              "</div>"
            ],
            "text/plain": [
              "                                                   text  target\n",
              "0     Our Deeds are the Reason of this #earthquake M...       1\n",
              "1                Forest fire near La Ronge Sask. Canada       1\n",
              "2     All residents asked to 'shelter in place' are ...       1\n",
              "3     13,000 people receive #wildfires evacuation or...       1\n",
              "4     Just got sent this photo from Ruby #Alaska as ...       1\n",
              "...                                                 ...     ...\n",
              "7608  Two giant cranes holding a bridge collapse int...       1\n",
              "7609  @aria_ahrary @TheTawniest The out of control w...       1\n",
              "7610  M1.94 [01:04 UTC]?5km S of Volcano Hawaii. htt...       1\n",
              "7611  Police investigating after an e-bike collided ...       1\n",
              "7612  The Latest: More Homes Razed by Northern Calif...       1\n",
              "\n",
              "[7613 rows x 2 columns]"
            ]
          },
          "metadata": {
            "tags": []
          },
          "execution_count": 5
        }
      ]
    },
    {
      "cell_type": "code",
      "metadata": {
        "colab": {
          "base_uri": "https://localhost:8080/"
        },
        "id": "aYBMQVk6TpHZ",
        "outputId": "71a8fb65-e87b-420a-b08d-68a63c94b41c"
      },
      "source": [
        "train['target'].value_counts()"
      ],
      "execution_count": 6,
      "outputs": [
        {
          "output_type": "execute_result",
          "data": {
            "text/plain": [
              "0    4342\n",
              "1    3271\n",
              "Name: target, dtype: int64"
            ]
          },
          "metadata": {
            "tags": []
          },
          "execution_count": 6
        }
      ]
    },
    {
      "cell_type": "code",
      "metadata": {
        "id": "2ylWUkaXTxDT"
      },
      "source": [
        "##Word Counts"
      ],
      "execution_count": 7,
      "outputs": []
    },
    {
      "cell_type": "code",
      "metadata": {
        "id": "UDa_k7BAUaWD"
      },
      "source": [
        "train['word_counts']=train['text'].apply(lambda x:len(str(x).split()))"
      ],
      "execution_count": 8,
      "outputs": []
    },
    {
      "cell_type": "code",
      "metadata": {
        "colab": {
          "base_uri": "https://localhost:8080/",
          "height": 419
        },
        "id": "O6IaGNjBUaXo",
        "outputId": "1d7a757e-1e17-4b97-dae0-c4fb0eada62d"
      },
      "source": [
        "train"
      ],
      "execution_count": 9,
      "outputs": [
        {
          "output_type": "execute_result",
          "data": {
            "text/html": [
              "<div>\n",
              "<style scoped>\n",
              "    .dataframe tbody tr th:only-of-type {\n",
              "        vertical-align: middle;\n",
              "    }\n",
              "\n",
              "    .dataframe tbody tr th {\n",
              "        vertical-align: top;\n",
              "    }\n",
              "\n",
              "    .dataframe thead th {\n",
              "        text-align: right;\n",
              "    }\n",
              "</style>\n",
              "<table border=\"1\" class=\"dataframe\">\n",
              "  <thead>\n",
              "    <tr style=\"text-align: right;\">\n",
              "      <th></th>\n",
              "      <th>text</th>\n",
              "      <th>target</th>\n",
              "      <th>word_counts</th>\n",
              "    </tr>\n",
              "  </thead>\n",
              "  <tbody>\n",
              "    <tr>\n",
              "      <th>0</th>\n",
              "      <td>Our Deeds are the Reason of this #earthquake M...</td>\n",
              "      <td>1</td>\n",
              "      <td>13</td>\n",
              "    </tr>\n",
              "    <tr>\n",
              "      <th>1</th>\n",
              "      <td>Forest fire near La Ronge Sask. Canada</td>\n",
              "      <td>1</td>\n",
              "      <td>7</td>\n",
              "    </tr>\n",
              "    <tr>\n",
              "      <th>2</th>\n",
              "      <td>All residents asked to 'shelter in place' are ...</td>\n",
              "      <td>1</td>\n",
              "      <td>22</td>\n",
              "    </tr>\n",
              "    <tr>\n",
              "      <th>3</th>\n",
              "      <td>13,000 people receive #wildfires evacuation or...</td>\n",
              "      <td>1</td>\n",
              "      <td>8</td>\n",
              "    </tr>\n",
              "    <tr>\n",
              "      <th>4</th>\n",
              "      <td>Just got sent this photo from Ruby #Alaska as ...</td>\n",
              "      <td>1</td>\n",
              "      <td>16</td>\n",
              "    </tr>\n",
              "    <tr>\n",
              "      <th>...</th>\n",
              "      <td>...</td>\n",
              "      <td>...</td>\n",
              "      <td>...</td>\n",
              "    </tr>\n",
              "    <tr>\n",
              "      <th>7608</th>\n",
              "      <td>Two giant cranes holding a bridge collapse int...</td>\n",
              "      <td>1</td>\n",
              "      <td>11</td>\n",
              "    </tr>\n",
              "    <tr>\n",
              "      <th>7609</th>\n",
              "      <td>@aria_ahrary @TheTawniest The out of control w...</td>\n",
              "      <td>1</td>\n",
              "      <td>20</td>\n",
              "    </tr>\n",
              "    <tr>\n",
              "      <th>7610</th>\n",
              "      <td>M1.94 [01:04 UTC]?5km S of Volcano Hawaii. htt...</td>\n",
              "      <td>1</td>\n",
              "      <td>8</td>\n",
              "    </tr>\n",
              "    <tr>\n",
              "      <th>7611</th>\n",
              "      <td>Police investigating after an e-bike collided ...</td>\n",
              "      <td>1</td>\n",
              "      <td>19</td>\n",
              "    </tr>\n",
              "    <tr>\n",
              "      <th>7612</th>\n",
              "      <td>The Latest: More Homes Razed by Northern Calif...</td>\n",
              "      <td>1</td>\n",
              "      <td>13</td>\n",
              "    </tr>\n",
              "  </tbody>\n",
              "</table>\n",
              "<p>7613 rows × 3 columns</p>\n",
              "</div>"
            ],
            "text/plain": [
              "                                                   text  target  word_counts\n",
              "0     Our Deeds are the Reason of this #earthquake M...       1           13\n",
              "1                Forest fire near La Ronge Sask. Canada       1            7\n",
              "2     All residents asked to 'shelter in place' are ...       1           22\n",
              "3     13,000 people receive #wildfires evacuation or...       1            8\n",
              "4     Just got sent this photo from Ruby #Alaska as ...       1           16\n",
              "...                                                 ...     ...          ...\n",
              "7608  Two giant cranes holding a bridge collapse int...       1           11\n",
              "7609  @aria_ahrary @TheTawniest The out of control w...       1           20\n",
              "7610  M1.94 [01:04 UTC]?5km S of Volcano Hawaii. htt...       1            8\n",
              "7611  Police investigating after an e-bike collided ...       1           19\n",
              "7612  The Latest: More Homes Razed by Northern Calif...       1           13\n",
              "\n",
              "[7613 rows x 3 columns]"
            ]
          },
          "metadata": {
            "tags": []
          },
          "execution_count": 9
        }
      ]
    },
    {
      "cell_type": "code",
      "metadata": {
        "id": "YZEkh0cpU4Lt"
      },
      "source": [
        "###Character counts"
      ],
      "execution_count": 10,
      "outputs": []
    },
    {
      "cell_type": "code",
      "metadata": {
        "id": "bB6OgGMCU4NA"
      },
      "source": [
        "train['char_count']=train['text'].apply(lambda x:len(x))"
      ],
      "execution_count": 11,
      "outputs": []
    },
    {
      "cell_type": "code",
      "metadata": {
        "colab": {
          "base_uri": "https://localhost:8080/",
          "height": 419
        },
        "id": "JZho7LIWVvz0",
        "outputId": "21bd2783-a4ef-4257-950d-889529cf208d"
      },
      "source": [
        "train"
      ],
      "execution_count": 12,
      "outputs": [
        {
          "output_type": "execute_result",
          "data": {
            "text/html": [
              "<div>\n",
              "<style scoped>\n",
              "    .dataframe tbody tr th:only-of-type {\n",
              "        vertical-align: middle;\n",
              "    }\n",
              "\n",
              "    .dataframe tbody tr th {\n",
              "        vertical-align: top;\n",
              "    }\n",
              "\n",
              "    .dataframe thead th {\n",
              "        text-align: right;\n",
              "    }\n",
              "</style>\n",
              "<table border=\"1\" class=\"dataframe\">\n",
              "  <thead>\n",
              "    <tr style=\"text-align: right;\">\n",
              "      <th></th>\n",
              "      <th>text</th>\n",
              "      <th>target</th>\n",
              "      <th>word_counts</th>\n",
              "      <th>char_count</th>\n",
              "    </tr>\n",
              "  </thead>\n",
              "  <tbody>\n",
              "    <tr>\n",
              "      <th>0</th>\n",
              "      <td>Our Deeds are the Reason of this #earthquake M...</td>\n",
              "      <td>1</td>\n",
              "      <td>13</td>\n",
              "      <td>69</td>\n",
              "    </tr>\n",
              "    <tr>\n",
              "      <th>1</th>\n",
              "      <td>Forest fire near La Ronge Sask. Canada</td>\n",
              "      <td>1</td>\n",
              "      <td>7</td>\n",
              "      <td>38</td>\n",
              "    </tr>\n",
              "    <tr>\n",
              "      <th>2</th>\n",
              "      <td>All residents asked to 'shelter in place' are ...</td>\n",
              "      <td>1</td>\n",
              "      <td>22</td>\n",
              "      <td>133</td>\n",
              "    </tr>\n",
              "    <tr>\n",
              "      <th>3</th>\n",
              "      <td>13,000 people receive #wildfires evacuation or...</td>\n",
              "      <td>1</td>\n",
              "      <td>8</td>\n",
              "      <td>65</td>\n",
              "    </tr>\n",
              "    <tr>\n",
              "      <th>4</th>\n",
              "      <td>Just got sent this photo from Ruby #Alaska as ...</td>\n",
              "      <td>1</td>\n",
              "      <td>16</td>\n",
              "      <td>88</td>\n",
              "    </tr>\n",
              "    <tr>\n",
              "      <th>...</th>\n",
              "      <td>...</td>\n",
              "      <td>...</td>\n",
              "      <td>...</td>\n",
              "      <td>...</td>\n",
              "    </tr>\n",
              "    <tr>\n",
              "      <th>7608</th>\n",
              "      <td>Two giant cranes holding a bridge collapse int...</td>\n",
              "      <td>1</td>\n",
              "      <td>11</td>\n",
              "      <td>83</td>\n",
              "    </tr>\n",
              "    <tr>\n",
              "      <th>7609</th>\n",
              "      <td>@aria_ahrary @TheTawniest The out of control w...</td>\n",
              "      <td>1</td>\n",
              "      <td>20</td>\n",
              "      <td>125</td>\n",
              "    </tr>\n",
              "    <tr>\n",
              "      <th>7610</th>\n",
              "      <td>M1.94 [01:04 UTC]?5km S of Volcano Hawaii. htt...</td>\n",
              "      <td>1</td>\n",
              "      <td>8</td>\n",
              "      <td>65</td>\n",
              "    </tr>\n",
              "    <tr>\n",
              "      <th>7611</th>\n",
              "      <td>Police investigating after an e-bike collided ...</td>\n",
              "      <td>1</td>\n",
              "      <td>19</td>\n",
              "      <td>137</td>\n",
              "    </tr>\n",
              "    <tr>\n",
              "      <th>7612</th>\n",
              "      <td>The Latest: More Homes Razed by Northern Calif...</td>\n",
              "      <td>1</td>\n",
              "      <td>13</td>\n",
              "      <td>94</td>\n",
              "    </tr>\n",
              "  </tbody>\n",
              "</table>\n",
              "<p>7613 rows × 4 columns</p>\n",
              "</div>"
            ],
            "text/plain": [
              "                                                   text  ...  char_count\n",
              "0     Our Deeds are the Reason of this #earthquake M...  ...          69\n",
              "1                Forest fire near La Ronge Sask. Canada  ...          38\n",
              "2     All residents asked to 'shelter in place' are ...  ...         133\n",
              "3     13,000 people receive #wildfires evacuation or...  ...          65\n",
              "4     Just got sent this photo from Ruby #Alaska as ...  ...          88\n",
              "...                                                 ...  ...         ...\n",
              "7608  Two giant cranes holding a bridge collapse int...  ...          83\n",
              "7609  @aria_ahrary @TheTawniest The out of control w...  ...         125\n",
              "7610  M1.94 [01:04 UTC]?5km S of Volcano Hawaii. htt...  ...          65\n",
              "7611  Police investigating after an e-bike collided ...  ...         137\n",
              "7612  The Latest: More Homes Razed by Northern Calif...  ...          94\n",
              "\n",
              "[7613 rows x 4 columns]"
            ]
          },
          "metadata": {
            "tags": []
          },
          "execution_count": 12
        }
      ]
    },
    {
      "cell_type": "code",
      "metadata": {
        "id": "vcnqkWnBVy94"
      },
      "source": [
        "###Average Words"
      ],
      "execution_count": 13,
      "outputs": []
    },
    {
      "cell_type": "code",
      "metadata": {
        "id": "dX3gixCRV2SP"
      },
      "source": [
        "def get_avg_word_len(x):\n",
        "    words=x.split()\n",
        "    word_len=0\n",
        "    for word in words:\n",
        "        word_len=word_len+len(word)\n",
        "    return word_len/len(words)"
      ],
      "execution_count": 14,
      "outputs": []
    },
    {
      "cell_type": "code",
      "metadata": {
        "id": "CDIgx1OvWZAl"
      },
      "source": [
        "train['avg_word_count']=train['text'].apply(lambda x: get_avg_word_len(x))"
      ],
      "execution_count": 15,
      "outputs": []
    },
    {
      "cell_type": "code",
      "metadata": {
        "colab": {
          "base_uri": "https://localhost:8080/",
          "height": 419
        },
        "id": "2QsvcMbnWpgj",
        "outputId": "5b6fb0d9-06ad-4b70-93e6-a7c503302828"
      },
      "source": [
        "train"
      ],
      "execution_count": 16,
      "outputs": [
        {
          "output_type": "execute_result",
          "data": {
            "text/html": [
              "<div>\n",
              "<style scoped>\n",
              "    .dataframe tbody tr th:only-of-type {\n",
              "        vertical-align: middle;\n",
              "    }\n",
              "\n",
              "    .dataframe tbody tr th {\n",
              "        vertical-align: top;\n",
              "    }\n",
              "\n",
              "    .dataframe thead th {\n",
              "        text-align: right;\n",
              "    }\n",
              "</style>\n",
              "<table border=\"1\" class=\"dataframe\">\n",
              "  <thead>\n",
              "    <tr style=\"text-align: right;\">\n",
              "      <th></th>\n",
              "      <th>text</th>\n",
              "      <th>target</th>\n",
              "      <th>word_counts</th>\n",
              "      <th>char_count</th>\n",
              "      <th>avg_word_count</th>\n",
              "    </tr>\n",
              "  </thead>\n",
              "  <tbody>\n",
              "    <tr>\n",
              "      <th>0</th>\n",
              "      <td>Our Deeds are the Reason of this #earthquake M...</td>\n",
              "      <td>1</td>\n",
              "      <td>13</td>\n",
              "      <td>69</td>\n",
              "      <td>4.384615</td>\n",
              "    </tr>\n",
              "    <tr>\n",
              "      <th>1</th>\n",
              "      <td>Forest fire near La Ronge Sask. Canada</td>\n",
              "      <td>1</td>\n",
              "      <td>7</td>\n",
              "      <td>38</td>\n",
              "      <td>4.571429</td>\n",
              "    </tr>\n",
              "    <tr>\n",
              "      <th>2</th>\n",
              "      <td>All residents asked to 'shelter in place' are ...</td>\n",
              "      <td>1</td>\n",
              "      <td>22</td>\n",
              "      <td>133</td>\n",
              "      <td>5.090909</td>\n",
              "    </tr>\n",
              "    <tr>\n",
              "      <th>3</th>\n",
              "      <td>13,000 people receive #wildfires evacuation or...</td>\n",
              "      <td>1</td>\n",
              "      <td>8</td>\n",
              "      <td>65</td>\n",
              "      <td>7.125000</td>\n",
              "    </tr>\n",
              "    <tr>\n",
              "      <th>4</th>\n",
              "      <td>Just got sent this photo from Ruby #Alaska as ...</td>\n",
              "      <td>1</td>\n",
              "      <td>16</td>\n",
              "      <td>88</td>\n",
              "      <td>4.500000</td>\n",
              "    </tr>\n",
              "    <tr>\n",
              "      <th>...</th>\n",
              "      <td>...</td>\n",
              "      <td>...</td>\n",
              "      <td>...</td>\n",
              "      <td>...</td>\n",
              "      <td>...</td>\n",
              "    </tr>\n",
              "    <tr>\n",
              "      <th>7608</th>\n",
              "      <td>Two giant cranes holding a bridge collapse int...</td>\n",
              "      <td>1</td>\n",
              "      <td>11</td>\n",
              "      <td>83</td>\n",
              "      <td>6.636364</td>\n",
              "    </tr>\n",
              "    <tr>\n",
              "      <th>7609</th>\n",
              "      <td>@aria_ahrary @TheTawniest The out of control w...</td>\n",
              "      <td>1</td>\n",
              "      <td>20</td>\n",
              "      <td>125</td>\n",
              "      <td>5.300000</td>\n",
              "    </tr>\n",
              "    <tr>\n",
              "      <th>7610</th>\n",
              "      <td>M1.94 [01:04 UTC]?5km S of Volcano Hawaii. htt...</td>\n",
              "      <td>1</td>\n",
              "      <td>8</td>\n",
              "      <td>65</td>\n",
              "      <td>7.250000</td>\n",
              "    </tr>\n",
              "    <tr>\n",
              "      <th>7611</th>\n",
              "      <td>Police investigating after an e-bike collided ...</td>\n",
              "      <td>1</td>\n",
              "      <td>19</td>\n",
              "      <td>137</td>\n",
              "      <td>6.263158</td>\n",
              "    </tr>\n",
              "    <tr>\n",
              "      <th>7612</th>\n",
              "      <td>The Latest: More Homes Razed by Northern Calif...</td>\n",
              "      <td>1</td>\n",
              "      <td>13</td>\n",
              "      <td>94</td>\n",
              "      <td>6.307692</td>\n",
              "    </tr>\n",
              "  </tbody>\n",
              "</table>\n",
              "<p>7613 rows × 5 columns</p>\n",
              "</div>"
            ],
            "text/plain": [
              "                                                   text  ...  avg_word_count\n",
              "0     Our Deeds are the Reason of this #earthquake M...  ...        4.384615\n",
              "1                Forest fire near La Ronge Sask. Canada  ...        4.571429\n",
              "2     All residents asked to 'shelter in place' are ...  ...        5.090909\n",
              "3     13,000 people receive #wildfires evacuation or...  ...        7.125000\n",
              "4     Just got sent this photo from Ruby #Alaska as ...  ...        4.500000\n",
              "...                                                 ...  ...             ...\n",
              "7608  Two giant cranes holding a bridge collapse int...  ...        6.636364\n",
              "7609  @aria_ahrary @TheTawniest The out of control w...  ...        5.300000\n",
              "7610  M1.94 [01:04 UTC]?5km S of Volcano Hawaii. htt...  ...        7.250000\n",
              "7611  Police investigating after an e-bike collided ...  ...        6.263158\n",
              "7612  The Latest: More Homes Razed by Northern Calif...  ...        6.307692\n",
              "\n",
              "[7613 rows x 5 columns]"
            ]
          },
          "metadata": {
            "tags": []
          },
          "execution_count": 16
        }
      ]
    },
    {
      "cell_type": "code",
      "metadata": {
        "id": "mpS59tjMUaAQ"
      },
      "source": [
        "import re\n",
        "import unicodedata"
      ],
      "execution_count": 17,
      "outputs": []
    },
    {
      "cell_type": "code",
      "metadata": {
        "id": "UqoOzmMdUaB0"
      },
      "source": [
        ""
      ],
      "execution_count": 17,
      "outputs": []
    },
    {
      "cell_type": "code",
      "metadata": {
        "id": "YTlJKGOKWph_"
      },
      "source": [
        "##Remove E-mail"
      ],
      "execution_count": 18,
      "outputs": []
    },
    {
      "cell_type": "code",
      "metadata": {
        "id": "7twO0yJPCoMb"
      },
      "source": [
        "train['text']=train['text'].apply(lambda x:re.sub(r'([a-zA-Z0-9+_-]+@[a-zA-Z0-9._-]+\\.[a-zA-Z0-9_-]+)','',x))"
      ],
      "execution_count": 19,
      "outputs": []
    },
    {
      "cell_type": "code",
      "metadata": {
        "colab": {
          "base_uri": "https://localhost:8080/",
          "height": 419
        },
        "id": "YY5NPJiAUNEB",
        "outputId": "bbed3649-656e-4e11-a2cd-2a1eff587581"
      },
      "source": [
        "train"
      ],
      "execution_count": 20,
      "outputs": [
        {
          "output_type": "execute_result",
          "data": {
            "text/html": [
              "<div>\n",
              "<style scoped>\n",
              "    .dataframe tbody tr th:only-of-type {\n",
              "        vertical-align: middle;\n",
              "    }\n",
              "\n",
              "    .dataframe tbody tr th {\n",
              "        vertical-align: top;\n",
              "    }\n",
              "\n",
              "    .dataframe thead th {\n",
              "        text-align: right;\n",
              "    }\n",
              "</style>\n",
              "<table border=\"1\" class=\"dataframe\">\n",
              "  <thead>\n",
              "    <tr style=\"text-align: right;\">\n",
              "      <th></th>\n",
              "      <th>text</th>\n",
              "      <th>target</th>\n",
              "      <th>word_counts</th>\n",
              "      <th>char_count</th>\n",
              "      <th>avg_word_count</th>\n",
              "    </tr>\n",
              "  </thead>\n",
              "  <tbody>\n",
              "    <tr>\n",
              "      <th>0</th>\n",
              "      <td>Our Deeds are the Reason of this #earthquake M...</td>\n",
              "      <td>1</td>\n",
              "      <td>13</td>\n",
              "      <td>69</td>\n",
              "      <td>4.384615</td>\n",
              "    </tr>\n",
              "    <tr>\n",
              "      <th>1</th>\n",
              "      <td>Forest fire near La Ronge Sask. Canada</td>\n",
              "      <td>1</td>\n",
              "      <td>7</td>\n",
              "      <td>38</td>\n",
              "      <td>4.571429</td>\n",
              "    </tr>\n",
              "    <tr>\n",
              "      <th>2</th>\n",
              "      <td>All residents asked to 'shelter in place' are ...</td>\n",
              "      <td>1</td>\n",
              "      <td>22</td>\n",
              "      <td>133</td>\n",
              "      <td>5.090909</td>\n",
              "    </tr>\n",
              "    <tr>\n",
              "      <th>3</th>\n",
              "      <td>13,000 people receive #wildfires evacuation or...</td>\n",
              "      <td>1</td>\n",
              "      <td>8</td>\n",
              "      <td>65</td>\n",
              "      <td>7.125000</td>\n",
              "    </tr>\n",
              "    <tr>\n",
              "      <th>4</th>\n",
              "      <td>Just got sent this photo from Ruby #Alaska as ...</td>\n",
              "      <td>1</td>\n",
              "      <td>16</td>\n",
              "      <td>88</td>\n",
              "      <td>4.500000</td>\n",
              "    </tr>\n",
              "    <tr>\n",
              "      <th>...</th>\n",
              "      <td>...</td>\n",
              "      <td>...</td>\n",
              "      <td>...</td>\n",
              "      <td>...</td>\n",
              "      <td>...</td>\n",
              "    </tr>\n",
              "    <tr>\n",
              "      <th>7608</th>\n",
              "      <td>Two giant cranes holding a bridge collapse int...</td>\n",
              "      <td>1</td>\n",
              "      <td>11</td>\n",
              "      <td>83</td>\n",
              "      <td>6.636364</td>\n",
              "    </tr>\n",
              "    <tr>\n",
              "      <th>7609</th>\n",
              "      <td>@aria_ahrary @TheTawniest The out of control w...</td>\n",
              "      <td>1</td>\n",
              "      <td>20</td>\n",
              "      <td>125</td>\n",
              "      <td>5.300000</td>\n",
              "    </tr>\n",
              "    <tr>\n",
              "      <th>7610</th>\n",
              "      <td>M1.94 [01:04 UTC]?5km S of Volcano Hawaii. htt...</td>\n",
              "      <td>1</td>\n",
              "      <td>8</td>\n",
              "      <td>65</td>\n",
              "      <td>7.250000</td>\n",
              "    </tr>\n",
              "    <tr>\n",
              "      <th>7611</th>\n",
              "      <td>Police investigating after an e-bike collided ...</td>\n",
              "      <td>1</td>\n",
              "      <td>19</td>\n",
              "      <td>137</td>\n",
              "      <td>6.263158</td>\n",
              "    </tr>\n",
              "    <tr>\n",
              "      <th>7612</th>\n",
              "      <td>The Latest: More Homes Razed by Northern Calif...</td>\n",
              "      <td>1</td>\n",
              "      <td>13</td>\n",
              "      <td>94</td>\n",
              "      <td>6.307692</td>\n",
              "    </tr>\n",
              "  </tbody>\n",
              "</table>\n",
              "<p>7613 rows × 5 columns</p>\n",
              "</div>"
            ],
            "text/plain": [
              "                                                   text  ...  avg_word_count\n",
              "0     Our Deeds are the Reason of this #earthquake M...  ...        4.384615\n",
              "1                Forest fire near La Ronge Sask. Canada  ...        4.571429\n",
              "2     All residents asked to 'shelter in place' are ...  ...        5.090909\n",
              "3     13,000 people receive #wildfires evacuation or...  ...        7.125000\n",
              "4     Just got sent this photo from Ruby #Alaska as ...  ...        4.500000\n",
              "...                                                 ...  ...             ...\n",
              "7608  Two giant cranes holding a bridge collapse int...  ...        6.636364\n",
              "7609  @aria_ahrary @TheTawniest The out of control w...  ...        5.300000\n",
              "7610  M1.94 [01:04 UTC]?5km S of Volcano Hawaii. htt...  ...        7.250000\n",
              "7611  Police investigating after an e-bike collided ...  ...        6.263158\n",
              "7612  The Latest: More Homes Razed by Northern Calif...  ...        6.307692\n",
              "\n",
              "[7613 rows x 5 columns]"
            ]
          },
          "metadata": {
            "tags": []
          },
          "execution_count": 20
        }
      ]
    },
    {
      "cell_type": "code",
      "metadata": {
        "id": "TPM62Bqj803n"
      },
      "source": [
        "train['text']=train['text'].apply(lambda x:str(x).lower())"
      ],
      "execution_count": 21,
      "outputs": []
    },
    {
      "cell_type": "code",
      "metadata": {
        "colab": {
          "base_uri": "https://localhost:8080/",
          "height": 419
        },
        "id": "Z8xziIlgCo0M",
        "outputId": "2b014b74-d61e-4bf7-e390-bff27e99a19a"
      },
      "source": [
        "train"
      ],
      "execution_count": 22,
      "outputs": [
        {
          "output_type": "execute_result",
          "data": {
            "text/html": [
              "<div>\n",
              "<style scoped>\n",
              "    .dataframe tbody tr th:only-of-type {\n",
              "        vertical-align: middle;\n",
              "    }\n",
              "\n",
              "    .dataframe tbody tr th {\n",
              "        vertical-align: top;\n",
              "    }\n",
              "\n",
              "    .dataframe thead th {\n",
              "        text-align: right;\n",
              "    }\n",
              "</style>\n",
              "<table border=\"1\" class=\"dataframe\">\n",
              "  <thead>\n",
              "    <tr style=\"text-align: right;\">\n",
              "      <th></th>\n",
              "      <th>text</th>\n",
              "      <th>target</th>\n",
              "      <th>word_counts</th>\n",
              "      <th>char_count</th>\n",
              "      <th>avg_word_count</th>\n",
              "    </tr>\n",
              "  </thead>\n",
              "  <tbody>\n",
              "    <tr>\n",
              "      <th>0</th>\n",
              "      <td>our deeds are the reason of this #earthquake m...</td>\n",
              "      <td>1</td>\n",
              "      <td>13</td>\n",
              "      <td>69</td>\n",
              "      <td>4.384615</td>\n",
              "    </tr>\n",
              "    <tr>\n",
              "      <th>1</th>\n",
              "      <td>forest fire near la ronge sask. canada</td>\n",
              "      <td>1</td>\n",
              "      <td>7</td>\n",
              "      <td>38</td>\n",
              "      <td>4.571429</td>\n",
              "    </tr>\n",
              "    <tr>\n",
              "      <th>2</th>\n",
              "      <td>all residents asked to 'shelter in place' are ...</td>\n",
              "      <td>1</td>\n",
              "      <td>22</td>\n",
              "      <td>133</td>\n",
              "      <td>5.090909</td>\n",
              "    </tr>\n",
              "    <tr>\n",
              "      <th>3</th>\n",
              "      <td>13,000 people receive #wildfires evacuation or...</td>\n",
              "      <td>1</td>\n",
              "      <td>8</td>\n",
              "      <td>65</td>\n",
              "      <td>7.125000</td>\n",
              "    </tr>\n",
              "    <tr>\n",
              "      <th>4</th>\n",
              "      <td>just got sent this photo from ruby #alaska as ...</td>\n",
              "      <td>1</td>\n",
              "      <td>16</td>\n",
              "      <td>88</td>\n",
              "      <td>4.500000</td>\n",
              "    </tr>\n",
              "    <tr>\n",
              "      <th>...</th>\n",
              "      <td>...</td>\n",
              "      <td>...</td>\n",
              "      <td>...</td>\n",
              "      <td>...</td>\n",
              "      <td>...</td>\n",
              "    </tr>\n",
              "    <tr>\n",
              "      <th>7608</th>\n",
              "      <td>two giant cranes holding a bridge collapse int...</td>\n",
              "      <td>1</td>\n",
              "      <td>11</td>\n",
              "      <td>83</td>\n",
              "      <td>6.636364</td>\n",
              "    </tr>\n",
              "    <tr>\n",
              "      <th>7609</th>\n",
              "      <td>@aria_ahrary @thetawniest the out of control w...</td>\n",
              "      <td>1</td>\n",
              "      <td>20</td>\n",
              "      <td>125</td>\n",
              "      <td>5.300000</td>\n",
              "    </tr>\n",
              "    <tr>\n",
              "      <th>7610</th>\n",
              "      <td>m1.94 [01:04 utc]?5km s of volcano hawaii. htt...</td>\n",
              "      <td>1</td>\n",
              "      <td>8</td>\n",
              "      <td>65</td>\n",
              "      <td>7.250000</td>\n",
              "    </tr>\n",
              "    <tr>\n",
              "      <th>7611</th>\n",
              "      <td>police investigating after an e-bike collided ...</td>\n",
              "      <td>1</td>\n",
              "      <td>19</td>\n",
              "      <td>137</td>\n",
              "      <td>6.263158</td>\n",
              "    </tr>\n",
              "    <tr>\n",
              "      <th>7612</th>\n",
              "      <td>the latest: more homes razed by northern calif...</td>\n",
              "      <td>1</td>\n",
              "      <td>13</td>\n",
              "      <td>94</td>\n",
              "      <td>6.307692</td>\n",
              "    </tr>\n",
              "  </tbody>\n",
              "</table>\n",
              "<p>7613 rows × 5 columns</p>\n",
              "</div>"
            ],
            "text/plain": [
              "                                                   text  ...  avg_word_count\n",
              "0     our deeds are the reason of this #earthquake m...  ...        4.384615\n",
              "1                forest fire near la ronge sask. canada  ...        4.571429\n",
              "2     all residents asked to 'shelter in place' are ...  ...        5.090909\n",
              "3     13,000 people receive #wildfires evacuation or...  ...        7.125000\n",
              "4     just got sent this photo from ruby #alaska as ...  ...        4.500000\n",
              "...                                                 ...  ...             ...\n",
              "7608  two giant cranes holding a bridge collapse int...  ...        6.636364\n",
              "7609  @aria_ahrary @thetawniest the out of control w...  ...        5.300000\n",
              "7610  m1.94 [01:04 utc]?5km s of volcano hawaii. htt...  ...        7.250000\n",
              "7611  police investigating after an e-bike collided ...  ...        6.263158\n",
              "7612  the latest: more homes razed by northern calif...  ...        6.307692\n",
              "\n",
              "[7613 rows x 5 columns]"
            ]
          },
          "metadata": {
            "tags": []
          },
          "execution_count": 22
        }
      ]
    },
    {
      "cell_type": "code",
      "metadata": {
        "id": "bPCFv8jQEAjd"
      },
      "source": [
        "##Remove URL"
      ],
      "execution_count": 23,
      "outputs": []
    },
    {
      "cell_type": "code",
      "metadata": {
        "id": "a34COOK3FSqI"
      },
      "source": [
        "train['text']=train['text'].apply(lambda x:re.sub(r\"http\\S+\", \"\", x))"
      ],
      "execution_count": 24,
      "outputs": []
    },
    {
      "cell_type": "code",
      "metadata": {
        "colab": {
          "base_uri": "https://localhost:8080/",
          "height": 419
        },
        "id": "-Wt5pI0_VW8k",
        "outputId": "28e8abda-2e0c-43cf-9a15-98c5abb3ccf1"
      },
      "source": [
        "train"
      ],
      "execution_count": 25,
      "outputs": [
        {
          "output_type": "execute_result",
          "data": {
            "text/html": [
              "<div>\n",
              "<style scoped>\n",
              "    .dataframe tbody tr th:only-of-type {\n",
              "        vertical-align: middle;\n",
              "    }\n",
              "\n",
              "    .dataframe tbody tr th {\n",
              "        vertical-align: top;\n",
              "    }\n",
              "\n",
              "    .dataframe thead th {\n",
              "        text-align: right;\n",
              "    }\n",
              "</style>\n",
              "<table border=\"1\" class=\"dataframe\">\n",
              "  <thead>\n",
              "    <tr style=\"text-align: right;\">\n",
              "      <th></th>\n",
              "      <th>text</th>\n",
              "      <th>target</th>\n",
              "      <th>word_counts</th>\n",
              "      <th>char_count</th>\n",
              "      <th>avg_word_count</th>\n",
              "    </tr>\n",
              "  </thead>\n",
              "  <tbody>\n",
              "    <tr>\n",
              "      <th>0</th>\n",
              "      <td>our deeds are the reason of this #earthquake m...</td>\n",
              "      <td>1</td>\n",
              "      <td>13</td>\n",
              "      <td>69</td>\n",
              "      <td>4.384615</td>\n",
              "    </tr>\n",
              "    <tr>\n",
              "      <th>1</th>\n",
              "      <td>forest fire near la ronge sask. canada</td>\n",
              "      <td>1</td>\n",
              "      <td>7</td>\n",
              "      <td>38</td>\n",
              "      <td>4.571429</td>\n",
              "    </tr>\n",
              "    <tr>\n",
              "      <th>2</th>\n",
              "      <td>all residents asked to 'shelter in place' are ...</td>\n",
              "      <td>1</td>\n",
              "      <td>22</td>\n",
              "      <td>133</td>\n",
              "      <td>5.090909</td>\n",
              "    </tr>\n",
              "    <tr>\n",
              "      <th>3</th>\n",
              "      <td>13,000 people receive #wildfires evacuation or...</td>\n",
              "      <td>1</td>\n",
              "      <td>8</td>\n",
              "      <td>65</td>\n",
              "      <td>7.125000</td>\n",
              "    </tr>\n",
              "    <tr>\n",
              "      <th>4</th>\n",
              "      <td>just got sent this photo from ruby #alaska as ...</td>\n",
              "      <td>1</td>\n",
              "      <td>16</td>\n",
              "      <td>88</td>\n",
              "      <td>4.500000</td>\n",
              "    </tr>\n",
              "    <tr>\n",
              "      <th>...</th>\n",
              "      <td>...</td>\n",
              "      <td>...</td>\n",
              "      <td>...</td>\n",
              "      <td>...</td>\n",
              "      <td>...</td>\n",
              "    </tr>\n",
              "    <tr>\n",
              "      <th>7608</th>\n",
              "      <td>two giant cranes holding a bridge collapse int...</td>\n",
              "      <td>1</td>\n",
              "      <td>11</td>\n",
              "      <td>83</td>\n",
              "      <td>6.636364</td>\n",
              "    </tr>\n",
              "    <tr>\n",
              "      <th>7609</th>\n",
              "      <td>@aria_ahrary @thetawniest the out of control w...</td>\n",
              "      <td>1</td>\n",
              "      <td>20</td>\n",
              "      <td>125</td>\n",
              "      <td>5.300000</td>\n",
              "    </tr>\n",
              "    <tr>\n",
              "      <th>7610</th>\n",
              "      <td>m1.94 [01:04 utc]?5km s of volcano hawaii.</td>\n",
              "      <td>1</td>\n",
              "      <td>8</td>\n",
              "      <td>65</td>\n",
              "      <td>7.250000</td>\n",
              "    </tr>\n",
              "    <tr>\n",
              "      <th>7611</th>\n",
              "      <td>police investigating after an e-bike collided ...</td>\n",
              "      <td>1</td>\n",
              "      <td>19</td>\n",
              "      <td>137</td>\n",
              "      <td>6.263158</td>\n",
              "    </tr>\n",
              "    <tr>\n",
              "      <th>7612</th>\n",
              "      <td>the latest: more homes razed by northern calif...</td>\n",
              "      <td>1</td>\n",
              "      <td>13</td>\n",
              "      <td>94</td>\n",
              "      <td>6.307692</td>\n",
              "    </tr>\n",
              "  </tbody>\n",
              "</table>\n",
              "<p>7613 rows × 5 columns</p>\n",
              "</div>"
            ],
            "text/plain": [
              "                                                   text  ...  avg_word_count\n",
              "0     our deeds are the reason of this #earthquake m...  ...        4.384615\n",
              "1                forest fire near la ronge sask. canada  ...        4.571429\n",
              "2     all residents asked to 'shelter in place' are ...  ...        5.090909\n",
              "3     13,000 people receive #wildfires evacuation or...  ...        7.125000\n",
              "4     just got sent this photo from ruby #alaska as ...  ...        4.500000\n",
              "...                                                 ...  ...             ...\n",
              "7608  two giant cranes holding a bridge collapse int...  ...        6.636364\n",
              "7609  @aria_ahrary @thetawniest the out of control w...  ...        5.300000\n",
              "7610        m1.94 [01:04 utc]?5km s of volcano hawaii.   ...        7.250000\n",
              "7611  police investigating after an e-bike collided ...  ...        6.263158\n",
              "7612  the latest: more homes razed by northern calif...  ...        6.307692\n",
              "\n",
              "[7613 rows x 5 columns]"
            ]
          },
          "metadata": {
            "tags": []
          },
          "execution_count": 25
        }
      ]
    },
    {
      "cell_type": "code",
      "metadata": {
        "id": "mruCyRo5VcKd"
      },
      "source": [
        "##Remove Punctuation"
      ],
      "execution_count": 26,
      "outputs": []
    },
    {
      "cell_type": "code",
      "metadata": {
        "id": "Q51_xBFsVwOB"
      },
      "source": [
        "train['text']=train['text'].apply(lambda x:re.sub('[^A-Z a-z 0-9-]+','',x))"
      ],
      "execution_count": 27,
      "outputs": []
    },
    {
      "cell_type": "code",
      "metadata": {
        "colab": {
          "base_uri": "https://localhost:8080/",
          "height": 419
        },
        "id": "qXeAe3HSWLM4",
        "outputId": "58bb0f28-1eb8-4154-9f68-600115afcbf8"
      },
      "source": [
        "train"
      ],
      "execution_count": 28,
      "outputs": [
        {
          "output_type": "execute_result",
          "data": {
            "text/html": [
              "<div>\n",
              "<style scoped>\n",
              "    .dataframe tbody tr th:only-of-type {\n",
              "        vertical-align: middle;\n",
              "    }\n",
              "\n",
              "    .dataframe tbody tr th {\n",
              "        vertical-align: top;\n",
              "    }\n",
              "\n",
              "    .dataframe thead th {\n",
              "        text-align: right;\n",
              "    }\n",
              "</style>\n",
              "<table border=\"1\" class=\"dataframe\">\n",
              "  <thead>\n",
              "    <tr style=\"text-align: right;\">\n",
              "      <th></th>\n",
              "      <th>text</th>\n",
              "      <th>target</th>\n",
              "      <th>word_counts</th>\n",
              "      <th>char_count</th>\n",
              "      <th>avg_word_count</th>\n",
              "    </tr>\n",
              "  </thead>\n",
              "  <tbody>\n",
              "    <tr>\n",
              "      <th>0</th>\n",
              "      <td>our deeds are the reason of this earthquake ma...</td>\n",
              "      <td>1</td>\n",
              "      <td>13</td>\n",
              "      <td>69</td>\n",
              "      <td>4.384615</td>\n",
              "    </tr>\n",
              "    <tr>\n",
              "      <th>1</th>\n",
              "      <td>forest fire near la ronge sask canada</td>\n",
              "      <td>1</td>\n",
              "      <td>7</td>\n",
              "      <td>38</td>\n",
              "      <td>4.571429</td>\n",
              "    </tr>\n",
              "    <tr>\n",
              "      <th>2</th>\n",
              "      <td>all residents asked to shelter in place are be...</td>\n",
              "      <td>1</td>\n",
              "      <td>22</td>\n",
              "      <td>133</td>\n",
              "      <td>5.090909</td>\n",
              "    </tr>\n",
              "    <tr>\n",
              "      <th>3</th>\n",
              "      <td>13000 people receive wildfires evacuation orde...</td>\n",
              "      <td>1</td>\n",
              "      <td>8</td>\n",
              "      <td>65</td>\n",
              "      <td>7.125000</td>\n",
              "    </tr>\n",
              "    <tr>\n",
              "      <th>4</th>\n",
              "      <td>just got sent this photo from ruby alaska as s...</td>\n",
              "      <td>1</td>\n",
              "      <td>16</td>\n",
              "      <td>88</td>\n",
              "      <td>4.500000</td>\n",
              "    </tr>\n",
              "    <tr>\n",
              "      <th>...</th>\n",
              "      <td>...</td>\n",
              "      <td>...</td>\n",
              "      <td>...</td>\n",
              "      <td>...</td>\n",
              "      <td>...</td>\n",
              "    </tr>\n",
              "    <tr>\n",
              "      <th>7608</th>\n",
              "      <td>two giant cranes holding a bridge collapse int...</td>\n",
              "      <td>1</td>\n",
              "      <td>11</td>\n",
              "      <td>83</td>\n",
              "      <td>6.636364</td>\n",
              "    </tr>\n",
              "    <tr>\n",
              "      <th>7609</th>\n",
              "      <td>ariaahrary thetawniest the out of control wild...</td>\n",
              "      <td>1</td>\n",
              "      <td>20</td>\n",
              "      <td>125</td>\n",
              "      <td>5.300000</td>\n",
              "    </tr>\n",
              "    <tr>\n",
              "      <th>7610</th>\n",
              "      <td>m194 0104 utc5km s of volcano hawaii</td>\n",
              "      <td>1</td>\n",
              "      <td>8</td>\n",
              "      <td>65</td>\n",
              "      <td>7.250000</td>\n",
              "    </tr>\n",
              "    <tr>\n",
              "      <th>7611</th>\n",
              "      <td>police investigating after an e-bike collided ...</td>\n",
              "      <td>1</td>\n",
              "      <td>19</td>\n",
              "      <td>137</td>\n",
              "      <td>6.263158</td>\n",
              "    </tr>\n",
              "    <tr>\n",
              "      <th>7612</th>\n",
              "      <td>the latest more homes razed by northern califo...</td>\n",
              "      <td>1</td>\n",
              "      <td>13</td>\n",
              "      <td>94</td>\n",
              "      <td>6.307692</td>\n",
              "    </tr>\n",
              "  </tbody>\n",
              "</table>\n",
              "<p>7613 rows × 5 columns</p>\n",
              "</div>"
            ],
            "text/plain": [
              "                                                   text  ...  avg_word_count\n",
              "0     our deeds are the reason of this earthquake ma...  ...        4.384615\n",
              "1                 forest fire near la ronge sask canada  ...        4.571429\n",
              "2     all residents asked to shelter in place are be...  ...        5.090909\n",
              "3     13000 people receive wildfires evacuation orde...  ...        7.125000\n",
              "4     just got sent this photo from ruby alaska as s...  ...        4.500000\n",
              "...                                                 ...  ...             ...\n",
              "7608  two giant cranes holding a bridge collapse int...  ...        6.636364\n",
              "7609  ariaahrary thetawniest the out of control wild...  ...        5.300000\n",
              "7610              m194 0104 utc5km s of volcano hawaii   ...        7.250000\n",
              "7611  police investigating after an e-bike collided ...  ...        6.263158\n",
              "7612  the latest more homes razed by northern califo...  ...        6.307692\n",
              "\n",
              "[7613 rows x 5 columns]"
            ]
          },
          "metadata": {
            "tags": []
          },
          "execution_count": 28
        }
      ]
    },
    {
      "cell_type": "code",
      "metadata": {
        "id": "n-BCiGIAWLOs"
      },
      "source": [
        "##Remove multiple Spaces"
      ],
      "execution_count": 29,
      "outputs": []
    },
    {
      "cell_type": "code",
      "metadata": {
        "id": "wYO1v-Q6WdkM"
      },
      "source": [
        "train['text']=train['text'].apply(lambda x:\" \".join(x.split()))"
      ],
      "execution_count": 30,
      "outputs": []
    },
    {
      "cell_type": "code",
      "metadata": {
        "colab": {
          "base_uri": "https://localhost:8080/",
          "height": 419
        },
        "id": "-ggIpjSyWqyR",
        "outputId": "e3ae96b2-ecd2-4e9c-face-ef3b3239beac"
      },
      "source": [
        "train"
      ],
      "execution_count": 31,
      "outputs": [
        {
          "output_type": "execute_result",
          "data": {
            "text/html": [
              "<div>\n",
              "<style scoped>\n",
              "    .dataframe tbody tr th:only-of-type {\n",
              "        vertical-align: middle;\n",
              "    }\n",
              "\n",
              "    .dataframe tbody tr th {\n",
              "        vertical-align: top;\n",
              "    }\n",
              "\n",
              "    .dataframe thead th {\n",
              "        text-align: right;\n",
              "    }\n",
              "</style>\n",
              "<table border=\"1\" class=\"dataframe\">\n",
              "  <thead>\n",
              "    <tr style=\"text-align: right;\">\n",
              "      <th></th>\n",
              "      <th>text</th>\n",
              "      <th>target</th>\n",
              "      <th>word_counts</th>\n",
              "      <th>char_count</th>\n",
              "      <th>avg_word_count</th>\n",
              "    </tr>\n",
              "  </thead>\n",
              "  <tbody>\n",
              "    <tr>\n",
              "      <th>0</th>\n",
              "      <td>our deeds are the reason of this earthquake ma...</td>\n",
              "      <td>1</td>\n",
              "      <td>13</td>\n",
              "      <td>69</td>\n",
              "      <td>4.384615</td>\n",
              "    </tr>\n",
              "    <tr>\n",
              "      <th>1</th>\n",
              "      <td>forest fire near la ronge sask canada</td>\n",
              "      <td>1</td>\n",
              "      <td>7</td>\n",
              "      <td>38</td>\n",
              "      <td>4.571429</td>\n",
              "    </tr>\n",
              "    <tr>\n",
              "      <th>2</th>\n",
              "      <td>all residents asked to shelter in place are be...</td>\n",
              "      <td>1</td>\n",
              "      <td>22</td>\n",
              "      <td>133</td>\n",
              "      <td>5.090909</td>\n",
              "    </tr>\n",
              "    <tr>\n",
              "      <th>3</th>\n",
              "      <td>13000 people receive wildfires evacuation orde...</td>\n",
              "      <td>1</td>\n",
              "      <td>8</td>\n",
              "      <td>65</td>\n",
              "      <td>7.125000</td>\n",
              "    </tr>\n",
              "    <tr>\n",
              "      <th>4</th>\n",
              "      <td>just got sent this photo from ruby alaska as s...</td>\n",
              "      <td>1</td>\n",
              "      <td>16</td>\n",
              "      <td>88</td>\n",
              "      <td>4.500000</td>\n",
              "    </tr>\n",
              "    <tr>\n",
              "      <th>...</th>\n",
              "      <td>...</td>\n",
              "      <td>...</td>\n",
              "      <td>...</td>\n",
              "      <td>...</td>\n",
              "      <td>...</td>\n",
              "    </tr>\n",
              "    <tr>\n",
              "      <th>7608</th>\n",
              "      <td>two giant cranes holding a bridge collapse int...</td>\n",
              "      <td>1</td>\n",
              "      <td>11</td>\n",
              "      <td>83</td>\n",
              "      <td>6.636364</td>\n",
              "    </tr>\n",
              "    <tr>\n",
              "      <th>7609</th>\n",
              "      <td>ariaahrary thetawniest the out of control wild...</td>\n",
              "      <td>1</td>\n",
              "      <td>20</td>\n",
              "      <td>125</td>\n",
              "      <td>5.300000</td>\n",
              "    </tr>\n",
              "    <tr>\n",
              "      <th>7610</th>\n",
              "      <td>m194 0104 utc5km s of volcano hawaii</td>\n",
              "      <td>1</td>\n",
              "      <td>8</td>\n",
              "      <td>65</td>\n",
              "      <td>7.250000</td>\n",
              "    </tr>\n",
              "    <tr>\n",
              "      <th>7611</th>\n",
              "      <td>police investigating after an e-bike collided ...</td>\n",
              "      <td>1</td>\n",
              "      <td>19</td>\n",
              "      <td>137</td>\n",
              "      <td>6.263158</td>\n",
              "    </tr>\n",
              "    <tr>\n",
              "      <th>7612</th>\n",
              "      <td>the latest more homes razed by northern califo...</td>\n",
              "      <td>1</td>\n",
              "      <td>13</td>\n",
              "      <td>94</td>\n",
              "      <td>6.307692</td>\n",
              "    </tr>\n",
              "  </tbody>\n",
              "</table>\n",
              "<p>7613 rows × 5 columns</p>\n",
              "</div>"
            ],
            "text/plain": [
              "                                                   text  ...  avg_word_count\n",
              "0     our deeds are the reason of this earthquake ma...  ...        4.384615\n",
              "1                 forest fire near la ronge sask canada  ...        4.571429\n",
              "2     all residents asked to shelter in place are be...  ...        5.090909\n",
              "3     13000 people receive wildfires evacuation orde...  ...        7.125000\n",
              "4     just got sent this photo from ruby alaska as s...  ...        4.500000\n",
              "...                                                 ...  ...             ...\n",
              "7608  two giant cranes holding a bridge collapse int...  ...        6.636364\n",
              "7609  ariaahrary thetawniest the out of control wild...  ...        5.300000\n",
              "7610               m194 0104 utc5km s of volcano hawaii  ...        7.250000\n",
              "7611  police investigating after an e-bike collided ...  ...        6.263158\n",
              "7612  the latest more homes razed by northern califo...  ...        6.307692\n",
              "\n",
              "[7613 rows x 5 columns]"
            ]
          },
          "metadata": {
            "tags": []
          },
          "execution_count": 31
        }
      ]
    },
    {
      "cell_type": "code",
      "metadata": {
        "id": "UfAibLInWqz_"
      },
      "source": [
        "###Remove Accented Char"
      ],
      "execution_count": 32,
      "outputs": []
    },
    {
      "cell_type": "code",
      "metadata": {
        "id": "fBbnNfsRXGaG"
      },
      "source": [
        "def remove_acc_char(x):\n",
        "    x=unicodedata.normalize('NFKD',x).encode('ascii','ignore').decode('utf-8','ignore')\n",
        "    return x"
      ],
      "execution_count": 33,
      "outputs": []
    },
    {
      "cell_type": "code",
      "metadata": {
        "id": "TVs_aM-2W3PW"
      },
      "source": [
        "train['text']=train['text'].apply(remove_acc_char)"
      ],
      "execution_count": 34,
      "outputs": []
    },
    {
      "cell_type": "code",
      "metadata": {
        "colab": {
          "base_uri": "https://localhost:8080/",
          "height": 419
        },
        "id": "CNFuhxa6XoCX",
        "outputId": "35c3e9b0-ce70-4c0f-ce4d-df9f7c6eb08e"
      },
      "source": [
        "train"
      ],
      "execution_count": 35,
      "outputs": [
        {
          "output_type": "execute_result",
          "data": {
            "text/html": [
              "<div>\n",
              "<style scoped>\n",
              "    .dataframe tbody tr th:only-of-type {\n",
              "        vertical-align: middle;\n",
              "    }\n",
              "\n",
              "    .dataframe tbody tr th {\n",
              "        vertical-align: top;\n",
              "    }\n",
              "\n",
              "    .dataframe thead th {\n",
              "        text-align: right;\n",
              "    }\n",
              "</style>\n",
              "<table border=\"1\" class=\"dataframe\">\n",
              "  <thead>\n",
              "    <tr style=\"text-align: right;\">\n",
              "      <th></th>\n",
              "      <th>text</th>\n",
              "      <th>target</th>\n",
              "      <th>word_counts</th>\n",
              "      <th>char_count</th>\n",
              "      <th>avg_word_count</th>\n",
              "    </tr>\n",
              "  </thead>\n",
              "  <tbody>\n",
              "    <tr>\n",
              "      <th>0</th>\n",
              "      <td>our deeds are the reason of this earthquake ma...</td>\n",
              "      <td>1</td>\n",
              "      <td>13</td>\n",
              "      <td>69</td>\n",
              "      <td>4.384615</td>\n",
              "    </tr>\n",
              "    <tr>\n",
              "      <th>1</th>\n",
              "      <td>forest fire near la ronge sask canada</td>\n",
              "      <td>1</td>\n",
              "      <td>7</td>\n",
              "      <td>38</td>\n",
              "      <td>4.571429</td>\n",
              "    </tr>\n",
              "    <tr>\n",
              "      <th>2</th>\n",
              "      <td>all residents asked to shelter in place are be...</td>\n",
              "      <td>1</td>\n",
              "      <td>22</td>\n",
              "      <td>133</td>\n",
              "      <td>5.090909</td>\n",
              "    </tr>\n",
              "    <tr>\n",
              "      <th>3</th>\n",
              "      <td>13000 people receive wildfires evacuation orde...</td>\n",
              "      <td>1</td>\n",
              "      <td>8</td>\n",
              "      <td>65</td>\n",
              "      <td>7.125000</td>\n",
              "    </tr>\n",
              "    <tr>\n",
              "      <th>4</th>\n",
              "      <td>just got sent this photo from ruby alaska as s...</td>\n",
              "      <td>1</td>\n",
              "      <td>16</td>\n",
              "      <td>88</td>\n",
              "      <td>4.500000</td>\n",
              "    </tr>\n",
              "    <tr>\n",
              "      <th>...</th>\n",
              "      <td>...</td>\n",
              "      <td>...</td>\n",
              "      <td>...</td>\n",
              "      <td>...</td>\n",
              "      <td>...</td>\n",
              "    </tr>\n",
              "    <tr>\n",
              "      <th>7608</th>\n",
              "      <td>two giant cranes holding a bridge collapse int...</td>\n",
              "      <td>1</td>\n",
              "      <td>11</td>\n",
              "      <td>83</td>\n",
              "      <td>6.636364</td>\n",
              "    </tr>\n",
              "    <tr>\n",
              "      <th>7609</th>\n",
              "      <td>ariaahrary thetawniest the out of control wild...</td>\n",
              "      <td>1</td>\n",
              "      <td>20</td>\n",
              "      <td>125</td>\n",
              "      <td>5.300000</td>\n",
              "    </tr>\n",
              "    <tr>\n",
              "      <th>7610</th>\n",
              "      <td>m194 0104 utc5km s of volcano hawaii</td>\n",
              "      <td>1</td>\n",
              "      <td>8</td>\n",
              "      <td>65</td>\n",
              "      <td>7.250000</td>\n",
              "    </tr>\n",
              "    <tr>\n",
              "      <th>7611</th>\n",
              "      <td>police investigating after an e-bike collided ...</td>\n",
              "      <td>1</td>\n",
              "      <td>19</td>\n",
              "      <td>137</td>\n",
              "      <td>6.263158</td>\n",
              "    </tr>\n",
              "    <tr>\n",
              "      <th>7612</th>\n",
              "      <td>the latest more homes razed by northern califo...</td>\n",
              "      <td>1</td>\n",
              "      <td>13</td>\n",
              "      <td>94</td>\n",
              "      <td>6.307692</td>\n",
              "    </tr>\n",
              "  </tbody>\n",
              "</table>\n",
              "<p>7613 rows × 5 columns</p>\n",
              "</div>"
            ],
            "text/plain": [
              "                                                   text  ...  avg_word_count\n",
              "0     our deeds are the reason of this earthquake ma...  ...        4.384615\n",
              "1                 forest fire near la ronge sask canada  ...        4.571429\n",
              "2     all residents asked to shelter in place are be...  ...        5.090909\n",
              "3     13000 people receive wildfires evacuation orde...  ...        7.125000\n",
              "4     just got sent this photo from ruby alaska as s...  ...        4.500000\n",
              "...                                                 ...  ...             ...\n",
              "7608  two giant cranes holding a bridge collapse int...  ...        6.636364\n",
              "7609  ariaahrary thetawniest the out of control wild...  ...        5.300000\n",
              "7610               m194 0104 utc5km s of volcano hawaii  ...        7.250000\n",
              "7611  police investigating after an e-bike collided ...  ...        6.263158\n",
              "7612  the latest more homes razed by northern califo...  ...        6.307692\n",
              "\n",
              "[7613 rows x 5 columns]"
            ]
          },
          "metadata": {
            "tags": []
          },
          "execution_count": 35
        }
      ]
    },
    {
      "cell_type": "code",
      "metadata": {
        "id": "fdJyRpMZXpnQ"
      },
      "source": [
        "###Spacy and NLP"
      ],
      "execution_count": 36,
      "outputs": []
    },
    {
      "cell_type": "code",
      "metadata": {
        "id": "64GRAomvXpo8"
      },
      "source": [
        "##Remove Stopwords"
      ],
      "execution_count": 37,
      "outputs": []
    },
    {
      "cell_type": "code",
      "metadata": {
        "id": "r4sRwwqZX3Pb"
      },
      "source": [
        "train['text']=train['text'].apply(lambda x:\" \".join([t for t in x.split() if t not in STOP_WORDS]))"
      ],
      "execution_count": 38,
      "outputs": []
    },
    {
      "cell_type": "code",
      "metadata": {
        "colab": {
          "base_uri": "https://localhost:8080/",
          "height": 419
        },
        "id": "7hty3T0hYTHH",
        "outputId": "22145a47-85a3-4a73-c0b5-8a7189f71020"
      },
      "source": [
        "train"
      ],
      "execution_count": 39,
      "outputs": [
        {
          "output_type": "execute_result",
          "data": {
            "text/html": [
              "<div>\n",
              "<style scoped>\n",
              "    .dataframe tbody tr th:only-of-type {\n",
              "        vertical-align: middle;\n",
              "    }\n",
              "\n",
              "    .dataframe tbody tr th {\n",
              "        vertical-align: top;\n",
              "    }\n",
              "\n",
              "    .dataframe thead th {\n",
              "        text-align: right;\n",
              "    }\n",
              "</style>\n",
              "<table border=\"1\" class=\"dataframe\">\n",
              "  <thead>\n",
              "    <tr style=\"text-align: right;\">\n",
              "      <th></th>\n",
              "      <th>text</th>\n",
              "      <th>target</th>\n",
              "      <th>word_counts</th>\n",
              "      <th>char_count</th>\n",
              "      <th>avg_word_count</th>\n",
              "    </tr>\n",
              "  </thead>\n",
              "  <tbody>\n",
              "    <tr>\n",
              "      <th>0</th>\n",
              "      <td>deeds reason earthquake allah forgive</td>\n",
              "      <td>1</td>\n",
              "      <td>13</td>\n",
              "      <td>69</td>\n",
              "      <td>4.384615</td>\n",
              "    </tr>\n",
              "    <tr>\n",
              "      <th>1</th>\n",
              "      <td>forest fire near la ronge sask canada</td>\n",
              "      <td>1</td>\n",
              "      <td>7</td>\n",
              "      <td>38</td>\n",
              "      <td>4.571429</td>\n",
              "    </tr>\n",
              "    <tr>\n",
              "      <th>2</th>\n",
              "      <td>residents asked shelter place notified officer...</td>\n",
              "      <td>1</td>\n",
              "      <td>22</td>\n",
              "      <td>133</td>\n",
              "      <td>5.090909</td>\n",
              "    </tr>\n",
              "    <tr>\n",
              "      <th>3</th>\n",
              "      <td>13000 people receive wildfires evacuation orde...</td>\n",
              "      <td>1</td>\n",
              "      <td>8</td>\n",
              "      <td>65</td>\n",
              "      <td>7.125000</td>\n",
              "    </tr>\n",
              "    <tr>\n",
              "      <th>4</th>\n",
              "      <td>got sent photo ruby alaska smoke wildfires pou...</td>\n",
              "      <td>1</td>\n",
              "      <td>16</td>\n",
              "      <td>88</td>\n",
              "      <td>4.500000</td>\n",
              "    </tr>\n",
              "    <tr>\n",
              "      <th>...</th>\n",
              "      <td>...</td>\n",
              "      <td>...</td>\n",
              "      <td>...</td>\n",
              "      <td>...</td>\n",
              "      <td>...</td>\n",
              "    </tr>\n",
              "    <tr>\n",
              "      <th>7608</th>\n",
              "      <td>giant cranes holding bridge collapse nearby homes</td>\n",
              "      <td>1</td>\n",
              "      <td>11</td>\n",
              "      <td>83</td>\n",
              "      <td>6.636364</td>\n",
              "    </tr>\n",
              "    <tr>\n",
              "      <th>7609</th>\n",
              "      <td>ariaahrary thetawniest control wild fires cali...</td>\n",
              "      <td>1</td>\n",
              "      <td>20</td>\n",
              "      <td>125</td>\n",
              "      <td>5.300000</td>\n",
              "    </tr>\n",
              "    <tr>\n",
              "      <th>7610</th>\n",
              "      <td>m194 0104 utc5km s volcano hawaii</td>\n",
              "      <td>1</td>\n",
              "      <td>8</td>\n",
              "      <td>65</td>\n",
              "      <td>7.250000</td>\n",
              "    </tr>\n",
              "    <tr>\n",
              "      <th>7611</th>\n",
              "      <td>police investigating e-bike collided car littl...</td>\n",
              "      <td>1</td>\n",
              "      <td>19</td>\n",
              "      <td>137</td>\n",
              "      <td>6.263158</td>\n",
              "    </tr>\n",
              "    <tr>\n",
              "      <th>7612</th>\n",
              "      <td>latest homes razed northern california wildfir...</td>\n",
              "      <td>1</td>\n",
              "      <td>13</td>\n",
              "      <td>94</td>\n",
              "      <td>6.307692</td>\n",
              "    </tr>\n",
              "  </tbody>\n",
              "</table>\n",
              "<p>7613 rows × 5 columns</p>\n",
              "</div>"
            ],
            "text/plain": [
              "                                                   text  ...  avg_word_count\n",
              "0                 deeds reason earthquake allah forgive  ...        4.384615\n",
              "1                 forest fire near la ronge sask canada  ...        4.571429\n",
              "2     residents asked shelter place notified officer...  ...        5.090909\n",
              "3     13000 people receive wildfires evacuation orde...  ...        7.125000\n",
              "4     got sent photo ruby alaska smoke wildfires pou...  ...        4.500000\n",
              "...                                                 ...  ...             ...\n",
              "7608  giant cranes holding bridge collapse nearby homes  ...        6.636364\n",
              "7609  ariaahrary thetawniest control wild fires cali...  ...        5.300000\n",
              "7610                  m194 0104 utc5km s volcano hawaii  ...        7.250000\n",
              "7611  police investigating e-bike collided car littl...  ...        6.263158\n",
              "7612  latest homes razed northern california wildfir...  ...        6.307692\n",
              "\n",
              "[7613 rows x 5 columns]"
            ]
          },
          "metadata": {
            "tags": []
          },
          "execution_count": 39
        }
      ]
    },
    {
      "cell_type": "code",
      "metadata": {
        "id": "g5P7sYTBYWzD"
      },
      "source": [
        "nlp = spacy.load(\"en_core_web_sm\")"
      ],
      "execution_count": 40,
      "outputs": []
    },
    {
      "cell_type": "code",
      "metadata": {
        "id": "9kYTZjBoYW0l"
      },
      "source": [
        "##Coverting word into base form(lemmatization)"
      ],
      "execution_count": 41,
      "outputs": []
    },
    {
      "cell_type": "code",
      "metadata": {
        "id": "RrZ8u_3tbP92"
      },
      "source": [
        "x=\"A letter has been written, asking him to be released\""
      ],
      "execution_count": 42,
      "outputs": []
    },
    {
      "cell_type": "code",
      "metadata": {
        "id": "Ijsg-K4Aame7"
      },
      "source": [
        "def make_base(x):\n",
        "    x_list=[]\n",
        "    doc=nlp(x)\n",
        "\n",
        "    for token in doc:\n",
        "      lemma=str(token.lemma_)\n",
        "      if lemma=='-PRON-':\n",
        "        lemma=token.text\n",
        "      x_list.append(lemma)\n",
        "    print(\" \".join(x_list))"
      ],
      "execution_count": 43,
      "outputs": []
    },
    {
      "cell_type": "code",
      "metadata": {
        "colab": {
          "base_uri": "https://localhost:8080/"
        },
        "id": "CWF3sBg4a_jc",
        "outputId": "24c4699c-9b57-40cf-9b0a-db2adc016f61"
      },
      "source": [
        "make_base(x)"
      ],
      "execution_count": 44,
      "outputs": [
        {
          "output_type": "stream",
          "text": [
            "a letter have be write , ask him to be release\n"
          ],
          "name": "stdout"
        }
      ]
    },
    {
      "cell_type": "code",
      "metadata": {
        "id": "eGpWAS68cH9p"
      },
      "source": [
        "##Common word removal"
      ],
      "execution_count": 45,
      "outputs": []
    },
    {
      "cell_type": "code",
      "metadata": {
        "id": "jURqiCrRcM6u"
      },
      "source": [
        "text1=' '.join(train['text'])"
      ],
      "execution_count": 46,
      "outputs": []
    },
    {
      "cell_type": "code",
      "metadata": {
        "id": "QrNdFLWIdcfX"
      },
      "source": [
        "text1=text1.split()"
      ],
      "execution_count": 47,
      "outputs": []
    },
    {
      "cell_type": "code",
      "metadata": {
        "id": "1OC4mDqudiVu"
      },
      "source": [
        "freq_comm=pd.Series(text1).value_counts()"
      ],
      "execution_count": 48,
      "outputs": []
    },
    {
      "cell_type": "code",
      "metadata": {
        "id": "gkOrp3t7dqUJ"
      },
      "source": [
        "f20=freq_comm[:20]"
      ],
      "execution_count": 49,
      "outputs": []
    },
    {
      "cell_type": "code",
      "metadata": {
        "colab": {
          "base_uri": "https://localhost:8080/"
        },
        "id": "WvfvAwVLevKY",
        "outputId": "51824c1f-ecfd-4169-fe43-73523d991e13"
      },
      "source": [
        "f20"
      ],
      "execution_count": 50,
      "outputs": [
        {
          "output_type": "execute_result",
          "data": {
            "text/plain": [
              "-             778\n",
              "like          344\n",
              "im            302\n",
              "amp           298\n",
              "fire          249\n",
              "new           226\n",
              "dont          206\n",
              "people        196\n",
              "news          187\n",
              "video         164\n",
              "2             158\n",
              "emergency     156\n",
              "disaster      151\n",
              "police        140\n",
              "body          125\n",
              "burning       120\n",
              "crash         117\n",
              "california    117\n",
              "suicide       116\n",
              "storm         115\n",
              "dtype: int64"
            ]
          },
          "metadata": {
            "tags": []
          },
          "execution_count": 50
        }
      ]
    },
    {
      "cell_type": "code",
      "metadata": {
        "id": "fLF3WiWSd7am"
      },
      "source": [
        "#train['text']=train['text'].apply(lambda x:\" \".join([t for t in x.split() if t not in f20]))"
      ],
      "execution_count": 51,
      "outputs": []
    },
    {
      "cell_type": "code",
      "metadata": {
        "id": "GIw6FpLKfCBi"
      },
      "source": [
        ""
      ],
      "execution_count": 51,
      "outputs": []
    },
    {
      "cell_type": "code",
      "metadata": {
        "id": "nr0MST5ffCDd"
      },
      "source": [
        ""
      ],
      "execution_count": 51,
      "outputs": []
    },
    {
      "cell_type": "code",
      "metadata": {
        "colab": {
          "base_uri": "https://localhost:8080/",
          "height": 419
        },
        "id": "bnZKelkTeUkW",
        "outputId": "2c114489-1126-44cc-9dbe-304e671ece90"
      },
      "source": [
        "train"
      ],
      "execution_count": 52,
      "outputs": [
        {
          "output_type": "execute_result",
          "data": {
            "text/html": [
              "<div>\n",
              "<style scoped>\n",
              "    .dataframe tbody tr th:only-of-type {\n",
              "        vertical-align: middle;\n",
              "    }\n",
              "\n",
              "    .dataframe tbody tr th {\n",
              "        vertical-align: top;\n",
              "    }\n",
              "\n",
              "    .dataframe thead th {\n",
              "        text-align: right;\n",
              "    }\n",
              "</style>\n",
              "<table border=\"1\" class=\"dataframe\">\n",
              "  <thead>\n",
              "    <tr style=\"text-align: right;\">\n",
              "      <th></th>\n",
              "      <th>text</th>\n",
              "      <th>target</th>\n",
              "      <th>word_counts</th>\n",
              "      <th>char_count</th>\n",
              "      <th>avg_word_count</th>\n",
              "    </tr>\n",
              "  </thead>\n",
              "  <tbody>\n",
              "    <tr>\n",
              "      <th>0</th>\n",
              "      <td>deeds reason earthquake allah forgive</td>\n",
              "      <td>1</td>\n",
              "      <td>13</td>\n",
              "      <td>69</td>\n",
              "      <td>4.384615</td>\n",
              "    </tr>\n",
              "    <tr>\n",
              "      <th>1</th>\n",
              "      <td>forest fire near la ronge sask canada</td>\n",
              "      <td>1</td>\n",
              "      <td>7</td>\n",
              "      <td>38</td>\n",
              "      <td>4.571429</td>\n",
              "    </tr>\n",
              "    <tr>\n",
              "      <th>2</th>\n",
              "      <td>residents asked shelter place notified officer...</td>\n",
              "      <td>1</td>\n",
              "      <td>22</td>\n",
              "      <td>133</td>\n",
              "      <td>5.090909</td>\n",
              "    </tr>\n",
              "    <tr>\n",
              "      <th>3</th>\n",
              "      <td>13000 people receive wildfires evacuation orde...</td>\n",
              "      <td>1</td>\n",
              "      <td>8</td>\n",
              "      <td>65</td>\n",
              "      <td>7.125000</td>\n",
              "    </tr>\n",
              "    <tr>\n",
              "      <th>4</th>\n",
              "      <td>got sent photo ruby alaska smoke wildfires pou...</td>\n",
              "      <td>1</td>\n",
              "      <td>16</td>\n",
              "      <td>88</td>\n",
              "      <td>4.500000</td>\n",
              "    </tr>\n",
              "    <tr>\n",
              "      <th>...</th>\n",
              "      <td>...</td>\n",
              "      <td>...</td>\n",
              "      <td>...</td>\n",
              "      <td>...</td>\n",
              "      <td>...</td>\n",
              "    </tr>\n",
              "    <tr>\n",
              "      <th>7608</th>\n",
              "      <td>giant cranes holding bridge collapse nearby homes</td>\n",
              "      <td>1</td>\n",
              "      <td>11</td>\n",
              "      <td>83</td>\n",
              "      <td>6.636364</td>\n",
              "    </tr>\n",
              "    <tr>\n",
              "      <th>7609</th>\n",
              "      <td>ariaahrary thetawniest control wild fires cali...</td>\n",
              "      <td>1</td>\n",
              "      <td>20</td>\n",
              "      <td>125</td>\n",
              "      <td>5.300000</td>\n",
              "    </tr>\n",
              "    <tr>\n",
              "      <th>7610</th>\n",
              "      <td>m194 0104 utc5km s volcano hawaii</td>\n",
              "      <td>1</td>\n",
              "      <td>8</td>\n",
              "      <td>65</td>\n",
              "      <td>7.250000</td>\n",
              "    </tr>\n",
              "    <tr>\n",
              "      <th>7611</th>\n",
              "      <td>police investigating e-bike collided car littl...</td>\n",
              "      <td>1</td>\n",
              "      <td>19</td>\n",
              "      <td>137</td>\n",
              "      <td>6.263158</td>\n",
              "    </tr>\n",
              "    <tr>\n",
              "      <th>7612</th>\n",
              "      <td>latest homes razed northern california wildfir...</td>\n",
              "      <td>1</td>\n",
              "      <td>13</td>\n",
              "      <td>94</td>\n",
              "      <td>6.307692</td>\n",
              "    </tr>\n",
              "  </tbody>\n",
              "</table>\n",
              "<p>7613 rows × 5 columns</p>\n",
              "</div>"
            ],
            "text/plain": [
              "                                                   text  ...  avg_word_count\n",
              "0                 deeds reason earthquake allah forgive  ...        4.384615\n",
              "1                 forest fire near la ronge sask canada  ...        4.571429\n",
              "2     residents asked shelter place notified officer...  ...        5.090909\n",
              "3     13000 people receive wildfires evacuation orde...  ...        7.125000\n",
              "4     got sent photo ruby alaska smoke wildfires pou...  ...        4.500000\n",
              "...                                                 ...  ...             ...\n",
              "7608  giant cranes holding bridge collapse nearby homes  ...        6.636364\n",
              "7609  ariaahrary thetawniest control wild fires cali...  ...        5.300000\n",
              "7610                  m194 0104 utc5km s volcano hawaii  ...        7.250000\n",
              "7611  police investigating e-bike collided car littl...  ...        6.263158\n",
              "7612  latest homes razed northern california wildfir...  ...        6.307692\n",
              "\n",
              "[7613 rows x 5 columns]"
            ]
          },
          "metadata": {
            "tags": []
          },
          "execution_count": 52
        }
      ]
    },
    {
      "cell_type": "code",
      "metadata": {
        "id": "tm8XeJEPffz3"
      },
      "source": [
        ""
      ],
      "execution_count": 52,
      "outputs": []
    },
    {
      "cell_type": "code",
      "metadata": {
        "id": "beSvsT5oeW7i"
      },
      "source": [
        "##Rare word Removal"
      ],
      "execution_count": 53,
      "outputs": []
    },
    {
      "cell_type": "code",
      "metadata": {
        "id": "ojaaV6P3ebep"
      },
      "source": [
        "rare=freq_comm[freq_comm.values==1]"
      ],
      "execution_count": 54,
      "outputs": []
    },
    {
      "cell_type": "code",
      "metadata": {
        "colab": {
          "base_uri": "https://localhost:8080/"
        },
        "id": "_ia4hCqheoHV",
        "outputId": "602dd144-d47b-4579-a5fb-8781fccee61a"
      },
      "source": [
        "rare"
      ],
      "execution_count": 55,
      "outputs": [
        {
          "output_type": "execute_result",
          "data": {
            "text/plain": [
              "autism                 1\n",
              "loo                    1\n",
              "tantonationalforest    1\n",
              "phantasmal             1\n",
              "detains                1\n",
              "                      ..\n",
              "com                    1\n",
              "invented               1\n",
              "rachelrofe             1\n",
              "12m                    1\n",
              "nlmdimrc               1\n",
              "Length: 11403, dtype: int64"
            ]
          },
          "metadata": {
            "tags": []
          },
          "execution_count": 55
        }
      ]
    },
    {
      "cell_type": "code",
      "metadata": {
        "id": "TVjP_HzUfFUi"
      },
      "source": [
        "#Apply same as common word removal"
      ],
      "execution_count": 56,
      "outputs": []
    },
    {
      "cell_type": "code",
      "metadata": {
        "id": "s3R8iRZFfFWX"
      },
      "source": [
        "##Word Cloud Visualization"
      ],
      "execution_count": 57,
      "outputs": []
    },
    {
      "cell_type": "code",
      "metadata": {
        "id": "jlNFkZXvfg3m"
      },
      "source": [
        "from wordcloud import WordCloud\n",
        "import matplotlib.pyplot as plt\n",
        "%matplotlib inline"
      ],
      "execution_count": 58,
      "outputs": []
    },
    {
      "cell_type": "code",
      "metadata": {
        "colab": {
          "base_uri": "https://localhost:8080/",
          "height": 248
        },
        "id": "cg_REGkIrmEg",
        "outputId": "22d3a6b9-54a9-448a-9ccf-c535bfe0bef4"
      },
      "source": [
        "wc=WordCloud(width=1200,height=800).generate(' '.join(train['text']))\n",
        "plt.imshow(wc)\n",
        "plt.axis('off')\n",
        "plt.show()"
      ],
      "execution_count": 59,
      "outputs": [
        {
          "output_type": "display_data",
          "data": {
            "image/png": "[encoded data removed]",
            "text/plain": [
              "<Figure size 432x288 with 1 Axes>"
            ]
          },
          "metadata": {
            "tags": [],
            "needs_background": "light"
          }
        }
      ]
    },
    {
      "cell_type": "code",
      "metadata": {
        "id": "H0bosxajshni"
      },
      "source": [
        "##Spelling Correction"
      ],
      "execution_count": 60,
      "outputs": []
    },
    {
      "cell_type": "code",
      "metadata": {
        "id": "Jl4TsHixsmoD"
      },
      "source": [
        "from textblob import TextBlob"
      ],
      "execution_count": 61,
      "outputs": []
    },
    {
      "cell_type": "code",
      "metadata": {
        "id": "WocdM5Gxssbs"
      },
      "source": [
        "#pip install pyspellchecker"
      ],
      "execution_count": 62,
      "outputs": []
    },
    {
      "cell_type": "code",
      "metadata": {
        "id": "AoWhaYc8ssdr"
      },
      "source": [
        "#from spellchecker import SpellChecker"
      ],
      "execution_count": 63,
      "outputs": []
    },
    {
      "cell_type": "code",
      "metadata": {
        "id": "CkPT49QEvUad"
      },
      "source": [
        "#spell=SpellChecker()\n",
        "#train['text']=train['text'].apply(lambda x:spell.correction(x))"
      ],
      "execution_count": 64,
      "outputs": []
    },
    {
      "cell_type": "code",
      "metadata": {
        "id": "gK-RUc8uwPM7"
      },
      "source": [
        "##Bag of words"
      ],
      "execution_count": 65,
      "outputs": []
    },
    {
      "cell_type": "code",
      "metadata": {
        "id": "eSfhFgcY1is_"
      },
      "source": [
        "from sklearn.feature_extraction.text import CountVectorizer"
      ],
      "execution_count": 66,
      "outputs": []
    },
    {
      "cell_type": "code",
      "metadata": {
        "id": "G96d6o384S0g"
      },
      "source": [
        "cv=CountVectorizer(ngram_range=(1,1))\n",
        "text_count=cv.fit_transform(train['text'])"
      ],
      "execution_count": 67,
      "outputs": []
    },
    {
      "cell_type": "code",
      "metadata": {
        "colab": {
          "base_uri": "https://localhost:8080/"
        },
        "id": "NTiE8Rr04o09",
        "outputId": "47003cc6-4c2b-4818-f4e5-07208c2126e6"
      },
      "source": [
        "text_count.toarray()"
      ],
      "execution_count": 68,
      "outputs": [
        {
          "output_type": "execute_result",
          "data": {
            "text/plain": [
              "array([[0, 0, 0, ..., 0, 0, 0],\n",
              "       [0, 0, 0, ..., 0, 0, 0],\n",
              "       [0, 0, 0, ..., 0, 0, 0],\n",
              "       ...,\n",
              "       [0, 0, 0, ..., 0, 0, 0],\n",
              "       [0, 0, 0, ..., 0, 0, 0],\n",
              "       [0, 0, 0, ..., 0, 0, 0]])"
            ]
          },
          "metadata": {
            "tags": []
          },
          "execution_count": 68
        }
      ]
    },
    {
      "cell_type": "code",
      "metadata": {
        "id": "lyBPbrft4o3X"
      },
      "source": [
        "##TF-IDF"
      ],
      "execution_count": 69,
      "outputs": []
    },
    {
      "cell_type": "code",
      "metadata": {
        "id": "MjcunUGN6aJg"
      },
      "source": [
        "from sklearn.feature_extraction.text import TfidfVectorizer"
      ],
      "execution_count": 70,
      "outputs": []
    },
    {
      "cell_type": "code",
      "metadata": {
        "id": "wteTmoROC0kp"
      },
      "source": [
        "tfidf=TfidfVectorizer(max_df=0.5,min_df=2,ngram_range=(1,2))\n",
        "x_tfidf=tfidf.fit_transform(train['text'])"
      ],
      "execution_count": 71,
      "outputs": []
    },
    {
      "cell_type": "code",
      "metadata": {
        "colab": {
          "base_uri": "https://localhost:8080/"
        },
        "id": "kZMnf6k1DKdO",
        "outputId": "3a86a509-09cf-4631-bd08-b42a92e41608"
      },
      "source": [
        "x_tfidf.toarray().shape"
      ],
      "execution_count": 72,
      "outputs": [
        {
          "output_type": "execute_result",
          "data": {
            "text/plain": [
              "(7613, 11026)"
            ]
          },
          "metadata": {
            "tags": []
          },
          "execution_count": 72
        }
      ]
    },
    {
      "cell_type": "code",
      "metadata": {
        "id": "mI94IwGTDdY3"
      },
      "source": [
        "##Word Embedding"
      ],
      "execution_count": 73,
      "outputs": []
    },
    {
      "cell_type": "code",
      "metadata": {
        "id": "rqadYU4eDqcy"
      },
      "source": [
        "#Spacy Word2vec"
      ],
      "execution_count": 74,
      "outputs": []
    },
    {
      "cell_type": "code",
      "metadata": {
        "id": "NxFuOzzOD5ls"
      },
      "source": [
        "#!python -m spacy download en_core_web_lg"
      ],
      "execution_count": 75,
      "outputs": []
    },
    {
      "cell_type": "code",
      "metadata": {
        "id": "rQau4-Y0DvE_"
      },
      "source": [
        "#nlp=spacy.load('en_core_web_lg')"
      ],
      "execution_count": 76,
      "outputs": []
    },
    {
      "cell_type": "code",
      "metadata": {
        "id": "ZylbUcKaD3m1"
      },
      "source": [
        "from sklearn import model_selection\n",
        "import xgboost as xgb\n",
        "from xgboost import XGBClassifier\n",
        "from sklearn.svm import LinearSVC\n",
        "from sklearn.metrics import accuracy_score,f1_score,confusion_matrix,classification_report\n",
        "from sklearn.model_selection import train_test_split\n",
        "from sklearn.preprocessing import MinMaxScaler\n",
        "from sklearn.ensemble import RandomForestClassifier\n",
        "from sklearn.linear_model import LogisticRegression"
      ],
      "execution_count": 147,
      "outputs": []
    },
    {
      "cell_type": "code",
      "metadata": {
        "id": "gAQRDirh6SEb"
      },
      "source": [
        "lgr=LogisticRegression(random_state=42,max_iter=200)\n",
        "svm=LinearSVC(random_state=42,max_iter=200)\n",
        "rfc=RandomForestClassifier(random_state=42,n_jobs=-1,n_estimators=200)\n",
        "xgb=XGBClassifier(random_state=42,max_depth=7,n_estimators=200)"
      ],
      "execution_count": 78,
      "outputs": []
    },
    {
      "cell_type": "code",
      "metadata": {
        "id": "9YkRTbQL7XYo"
      },
      "source": [
        "clf={'SVM':svm,'RFC':rfc,'XGB':xgb,'LGR':lgr}"
      ],
      "execution_count": 79,
      "outputs": []
    },
    {
      "cell_type": "code",
      "metadata": {
        "id": "eSFqFvB-7u5O"
      },
      "source": [
        "y=train['target']\n"
      ],
      "execution_count": 80,
      "outputs": []
    },
    {
      "cell_type": "code",
      "metadata": {
        "colab": {
          "base_uri": "https://localhost:8080/",
          "height": 86
        },
        "id": "A31jd90c88q3",
        "outputId": "df96e3a4-14f0-4139-83c4-65f4d405ed4f"
      },
      "source": [
        "scaler=MinMaxScaler(feature_range=(0,1))\n",
        "X=scaler.fit_transform(pd.DataFrame(x_tfidf.toarray()))\n",
        "\n",
        "X_train,X_test,y_train,y_test=train_test_split(X,y,random_state=42,test_size=0.20,stratify=y)\n",
        "for key in clf.keys():\n",
        "          clf[key].fit(X_train,y_train)\n",
        "          y_pred=clf[key].predict(X_test)\n",
        "          f1=f1_score(y_test,y_pred)\n",
        "          print(key,\"----\",f1)\n",
        "  "
      ],
      "execution_count": 81,
      "outputs": [
        {
          "output_type": "execute_result",
          "data": {
            "application/vnd.google.colaboratory.intrinsic+json": {
              "type": "string"
            },
            "text/plain": [
              "'scaler=MinMaxScaler(feature_range=(0,1))\\nX=scaler.fit_transform(pd.DataFrame(x_tfidf.toarray()))\\n\\nX_train,X_test,y_train,y_test=train_test_split(X,y,random_state=42,test_size=0.20,stratify=y)\\nfor key in clf.keys():\\n          clf[key].fit(X_train,y_train)\\n          y_pred=clf[key].predict(X_test)\\n          f1=f1_score(y_test,y_pred)\\n          print(key,\"----\",f1)\\n    '"
            ]
          },
          "metadata": {
            "tags": []
          },
          "execution_count": 81
        }
      ]
    },
    {
      "cell_type": "code",
      "metadata": {
        "id": "XcQEO5kQUlV3"
      },
      "source": [
        ""
      ],
      "execution_count": null,
      "outputs": []
    },
    {
      "cell_type": "code",
      "metadata": {
        "id": "qRuwuFeUpfte"
      },
      "source": [
        "from tensorflow.keras.layers import Embedding\n",
        "from tensorflow.keras.preprocessing.sequence import pad_sequences\n",
        "from tensorflow.keras.models import Sequential\n",
        "from tensorflow.keras.preprocessing.text import Tokenizer\n",
        "\n",
        "from tensorflow.keras.layers import Dense,Dropout,LSTM,SpatialDropout1D"
      ],
      "execution_count": 99,
      "outputs": []
    },
    {
      "cell_type": "code",
      "metadata": {
        "id": "Fq-EpwOgpksT"
      },
      "source": [
        "voc_size=5000"
      ],
      "execution_count": 83,
      "outputs": []
    },
    {
      "cell_type": "code",
      "metadata": {
        "id": "eWuoZSuyVCSt"
      },
      "source": [
        "X=[d.split() for d in train['text'].tolist()]"
      ],
      "execution_count": 193,
      "outputs": []
    },
    {
      "cell_type": "code",
      "metadata": {
        "id": "IyD2n1mYVPQt"
      },
      "source": [
        "tokeniser=Tokenizer()\n",
        "tokeniser.fit_on_texts(X)"
      ],
      "execution_count": 194,
      "outputs": []
    },
    {
      "cell_type": "code",
      "metadata": {
        "id": "smIFt5-eXNHa"
      },
      "source": [
        "X=tokeniser.texts_to_sequences(X)"
      ],
      "execution_count": 195,
      "outputs": []
    },
    {
      "cell_type": "code",
      "metadata": {
        "id": "WEjpdGWaXKBC"
      },
      "source": [
        ""
      ],
      "execution_count": null,
      "outputs": []
    },
    {
      "cell_type": "code",
      "metadata": {
        "colab": {
          "base_uri": "https://localhost:8080/",
          "height": 265
        },
        "id": "kButbD2mV56B",
        "outputId": "8291b39e-b3a8-474a-831b-efd04a0ea040"
      },
      "source": [
        "plt.hist([len(x) for x in X], bins=700)\n",
        "plt.show()"
      ],
      "execution_count": 196,
      "outputs": [
        {
          "output_type": "display_data",
          "data": {
            "image/png": "[encoded data removed]",
            "text/plain": [
              "<Figure size 432x288 with 1 Axes>"
            ]
          },
          "metadata": {
            "tags": [],
            "needs_background": "light"
          }
        }
      ]
    },
    {
      "cell_type": "code",
      "metadata": {
        "colab": {
          "base_uri": "https://localhost:8080/"
        },
        "id": "rYy916eiXogM",
        "outputId": "6cd38ec1-2dc3-4ffc-fce2-c51e5dd39815"
      },
      "source": [
        "nos=np.array([len(x) for x in X])\n",
        "len(nos[nos>17])"
      ],
      "execution_count": 153,
      "outputs": [
        {
          "output_type": "execute_result",
          "data": {
            "text/plain": [
              "2627"
            ]
          },
          "metadata": {
            "tags": []
          },
          "execution_count": 153
        }
      ]
    },
    {
      "cell_type": "code",
      "metadata": {
        "id": "ikPL0E-x_Aeh"
      },
      "source": [
        "sent_length=24\n",
        "embed_docs=pad_sequences(X,padding='pre',maxlen=sent_length)"
      ],
      "execution_count": 197,
      "outputs": []
    },
    {
      "cell_type": "code",
      "metadata": {
        "colab": {
          "base_uri": "https://localhost:8080/"
        },
        "id": "pgIz51WkCymF",
        "outputId": "a1fdabc5-2cc4-4750-d2e0-83b7dc5026e3"
      },
      "source": [
        "embed_docs[10]"
      ],
      "execution_count": 85,
      "outputs": [
        {
          "output_type": "execute_result",
          "data": {
            "text/plain": [
              "array([0, 0, 0, 0, 0, 0, 0, 0, 0, 0, 0, 0, 0, 0, 0, 0, 0, 0, 0, 0],\n",
              "      dtype=int32)"
            ]
          },
          "metadata": {
            "tags": []
          },
          "execution_count": 85
        }
      ]
    },
    {
      "cell_type": "code",
      "metadata": {
        "id": "lJWMhIDQYiVC"
      },
      "source": [
        "vocab_sizee=len(tokeniser.word_index)+1"
      ],
      "execution_count": 198,
      "outputs": []
    },
    {
      "cell_type": "code",
      "metadata": {
        "id": "sA6mnvKnC2Fx"
      },
      "source": [
        "embedding_vector_features=32\n",
        "model=Sequential()\n",
        "model.add(Embedding(vocab_sizee,embedding_vector_features,input_length=sent_length))\n",
        "                                \n",
        "model.add(SpatialDropout1D(0.25))\n",
        "model.add(LSTM(50,return_sequences=True))\n",
        "model.add(Dropout(0.2))\n",
        "model.add(LSTM(120,return_sequences=True))\n",
        "model.add(Dropout(0.3))\n",
        "model.add(LSTM(40))\n",
        "model.add(Dense(1, activation='sigmoid'))\n",
        "model.compile(loss='binary_crossentropy',optimizer='adam', \n",
        "                           metrics=['accuracy'])"
      ],
      "execution_count": 199,
      "outputs": []
    },
    {
      "cell_type": "code",
      "metadata": {
        "colab": {
          "base_uri": "https://localhost:8080/"
        },
        "id": "HpmSdJfFN9jm",
        "outputId": "c3ed7dfc-b2df-4778-cd01-c0ea429b0293"
      },
      "source": [
        "model.summary()"
      ],
      "execution_count": 200,
      "outputs": [
        {
          "output_type": "stream",
          "text": [
            "Model: \"sequential_11\"\n",
            "_________________________________________________________________\n",
            "Layer (type)                 Output Shape              Param #   \n",
            "=================================================================\n",
            "embedding_10 (Embedding)     (None, 24, 32)            895488    \n",
            "_________________________________________________________________\n",
            "spatial_dropout1d_9 (Spatial (None, 24, 32)            0         \n",
            "_________________________________________________________________\n",
            "lstm_26 (LSTM)               (None, 24, 50)            16600     \n",
            "_________________________________________________________________\n",
            "dropout_16 (Dropout)         (None, 24, 50)            0         \n",
            "_________________________________________________________________\n",
            "lstm_27 (LSTM)               (None, 24, 120)           82080     \n",
            "_________________________________________________________________\n",
            "dropout_17 (Dropout)         (None, 24, 120)           0         \n",
            "_________________________________________________________________\n",
            "lstm_28 (LSTM)               (None, 40)                25760     \n",
            "_________________________________________________________________\n",
            "dense_8 (Dense)              (None, 1)                 41        \n",
            "=================================================================\n",
            "Total params: 1,019,969\n",
            "Trainable params: 1,019,969\n",
            "Non-trainable params: 0\n",
            "_________________________________________________________________\n"
          ],
          "name": "stdout"
        }
      ]
    },
    {
      "cell_type": "code",
      "metadata": {
        "colab": {
          "base_uri": "https://localhost:8080/"
        },
        "id": "QpjGre3WE9O2",
        "outputId": "2487e6e5-af07-4721-94a7-8534d5ad300c"
      },
      "source": [
        "len(embed_docs),y.shape"
      ],
      "execution_count": 158,
      "outputs": [
        {
          "output_type": "execute_result",
          "data": {
            "text/plain": [
              "(7613, (7613,))"
            ]
          },
          "metadata": {
            "tags": []
          },
          "execution_count": 158
        }
      ]
    },
    {
      "cell_type": "code",
      "metadata": {
        "id": "Jrz5LNS9FGRq"
      },
      "source": [
        "X_final=np.array(embed_docs)\n",
        "Y_final=np.array(y)"
      ],
      "execution_count": 201,
      "outputs": []
    },
    {
      "cell_type": "code",
      "metadata": {
        "colab": {
          "base_uri": "https://localhost:8080/"
        },
        "id": "SYZSBfAZFSft",
        "outputId": "1855b165-9739-49fa-bc67-c6b953e8e10e"
      },
      "source": [
        "X_final.shape,Y_final.shape"
      ],
      "execution_count": 202,
      "outputs": [
        {
          "output_type": "execute_result",
          "data": {
            "text/plain": [
              "((7613, 24), (7613,))"
            ]
          },
          "metadata": {
            "tags": []
          },
          "execution_count": 202
        }
      ]
    },
    {
      "cell_type": "code",
      "metadata": {
        "id": "lFbTd2HdFY2-"
      },
      "source": [
        "x_train,x_test,Y_Train,Y_Test=train_test_split(X_final,Y_final,test_size=0.2,random_state=42)"
      ],
      "execution_count": 203,
      "outputs": []
    },
    {
      "cell_type": "code",
      "metadata": {
        "colab": {
          "base_uri": "https://localhost:8080/"
        },
        "id": "tdrb188TG_tk",
        "outputId": "fc7d3981-23c8-45c3-db1c-cef3e3072a5f"
      },
      "source": [
        "x_train.shape,Y_Train.shape"
      ],
      "execution_count": 204,
      "outputs": [
        {
          "output_type": "execute_result",
          "data": {
            "text/plain": [
              "((6090, 24), (6090,))"
            ]
          },
          "metadata": {
            "tags": []
          },
          "execution_count": 204
        }
      ]
    },
    {
      "cell_type": "code",
      "metadata": {
        "colab": {
          "base_uri": "https://localhost:8080/"
        },
        "id": "c-Z3TnaVF7t5",
        "outputId": "01cb7011-2213-489c-f102-722ffa1c6e4c"
      },
      "source": [
        "model.fit(x_train,Y_Train,validation_data=(x_test,Y_Test),epochs=10,batch_size=64)"
      ],
      "execution_count": 206,
      "outputs": [
        {
          "output_type": "stream",
          "text": [
            "Epoch 1/10\n",
            "96/96 [==============================] - 2s 20ms/step - loss: 0.0130 - accuracy: 0.9962 - val_loss: 1.0454 - val_accuracy: 0.7590\n",
            "Epoch 2/10\n",
            "96/96 [==============================] - 2s 19ms/step - loss: 0.0143 - accuracy: 0.9952 - val_loss: 0.9611 - val_accuracy: 0.7479\n",
            "Epoch 3/10\n",
            "96/96 [==============================] - 2s 19ms/step - loss: 0.0109 - accuracy: 0.9956 - val_loss: 1.0674 - val_accuracy: 0.7492\n",
            "Epoch 4/10\n",
            "96/96 [==============================] - 2s 19ms/step - loss: 0.0105 - accuracy: 0.9970 - val_loss: 1.1369 - val_accuracy: 0.7623\n",
            "Epoch 5/10\n",
            "96/96 [==============================] - 2s 19ms/step - loss: 0.0087 - accuracy: 0.9967 - val_loss: 1.1338 - val_accuracy: 0.7525\n",
            "Epoch 6/10\n",
            "96/96 [==============================] - 2s 19ms/step - loss: 0.0112 - accuracy: 0.9962 - val_loss: 0.9926 - val_accuracy: 0.7531\n",
            "Epoch 7/10\n",
            "96/96 [==============================] - 2s 19ms/step - loss: 0.0091 - accuracy: 0.9957 - val_loss: 1.0678 - val_accuracy: 0.7610\n",
            "Epoch 8/10\n",
            "96/96 [==============================] - 2s 19ms/step - loss: 0.0095 - accuracy: 0.9962 - val_loss: 1.1041 - val_accuracy: 0.7551\n",
            "Epoch 9/10\n",
            "96/96 [==============================] - 2s 19ms/step - loss: 0.0096 - accuracy: 0.9970 - val_loss: 1.0115 - val_accuracy: 0.7479\n",
            "Epoch 10/10\n",
            "96/96 [==============================] - 2s 19ms/step - loss: 0.0088 - accuracy: 0.9969 - val_loss: 1.1101 - val_accuracy: 0.7610\n"
          ],
          "name": "stdout"
        },
        {
          "output_type": "execute_result",
          "data": {
            "text/plain": [
              "<tensorflow.python.keras.callbacks.History at 0x7f463a807690>"
            ]
          },
          "metadata": {
            "tags": []
          },
          "execution_count": 206
        }
      ]
    },
    {
      "cell_type": "code",
      "metadata": {
        "colab": {
          "base_uri": "https://localhost:8080/"
        },
        "id": "pO9-N9E2QPuk",
        "outputId": "2b38d53c-d0d7-419e-bf17-f8e9f7b7fce2"
      },
      "source": [
        "Y_pred=model.predict_classes(x_test)"
      ],
      "execution_count": 207,
      "outputs": [
        {
          "output_type": "stream",
          "text": [
            "/usr/local/lib/python3.7/dist-packages/tensorflow/python/keras/engine/sequential.py:450: UserWarning: `model.predict_classes()` is deprecated and will be removed after 2021-01-01. Please use instead:* `np.argmax(model.predict(x), axis=-1)`,   if your model does multi-class classification   (e.g. if it uses a `softmax` last-layer activation).* `(model.predict(x) > 0.5).astype(\"int32\")`,   if your model does binary classification   (e.g. if it uses a `sigmoid` last-layer activation).\n",
            "  warnings.warn('`model.predict_classes()` is deprecated and '\n"
          ],
          "name": "stderr"
        }
      ]
    },
    {
      "cell_type": "code",
      "metadata": {
        "colab": {
          "base_uri": "https://localhost:8080/"
        },
        "id": "2key093VQTf-",
        "outputId": "64d4f3e5-997a-4585-88b4-ecad3c5a6b8d"
      },
      "source": [
        "accuracy_score(Y_Test,Y_pred)"
      ],
      "execution_count": 208,
      "outputs": [
        {
          "output_type": "execute_result",
          "data": {
            "text/plain": [
              "0.7609980302035456"
            ]
          },
          "metadata": {
            "tags": []
          },
          "execution_count": 208
        }
      ]
    },
    {
      "cell_type": "code",
      "metadata": {
        "colab": {
          "base_uri": "https://localhost:8080/"
        },
        "id": "5yKLP5pNdNIF",
        "outputId": "da3b7d8d-ae4e-4118-a47d-179b371501af"
      },
      "source": [
        "print(classification_report(Y_Test,Y_pred))"
      ],
      "execution_count": 209,
      "outputs": [
        {
          "output_type": "stream",
          "text": [
            "              precision    recall  f1-score   support\n",
            "\n",
            "           0       0.75      0.88      0.81       874\n",
            "           1       0.78      0.61      0.68       649\n",
            "\n",
            "    accuracy                           0.76      1523\n",
            "   macro avg       0.77      0.74      0.75      1523\n",
            "weighted avg       0.76      0.76      0.76      1523\n",
            "\n"
          ],
          "name": "stdout"
        }
      ]
    },
    {
      "cell_type": "code",
      "metadata": {
        "id": "PpgVsivMRfEH"
      },
      "source": [
        "def predict(tweet):\n",
        "    test_word = tweet\n",
        "    tw = tokeniser.texts_to_sequences([test_word])\n",
        "    tw = pad_sequences(tw,padding='pre',maxlen=17)\n",
        "    prediction = int(model.predict(tw).round().item())\n",
        "    if(prediction==0):\n",
        "        return('No Disaster')\n",
        "    else:\n",
        "        return('Disaster')"
      ],
      "execution_count": 215,
      "outputs": []
    },
    {
      "cell_type": "code",
      "metadata": {
        "colab": {
          "base_uri": "https://localhost:8080/",
          "height": 35
        },
        "id": "UcMLAimAR_RB",
        "outputId": "b3e087ae-f370-4f51-b5c7-65196015f313"
      },
      "source": [
        "predict('Our Deeds are the Reason of this #earthquake May ALLAH Forgive us all')"
      ],
      "execution_count": 216,
      "outputs": [
        {
          "output_type": "execute_result",
          "data": {
            "application/vnd.google.colaboratory.intrinsic+json": {
              "type": "string"
            },
            "text/plain": [
              "'Disaster'"
            ]
          },
          "metadata": {
            "tags": []
          },
          "execution_count": 216
        }
      ]
    },
    {
      "cell_type": "code",
      "metadata": {
        "colab": {
          "base_uri": "https://localhost:8080/",
          "height": 35
        },
        "id": "HFyH8JzhcAd4",
        "outputId": "d247e59a-31ad-4116-a308-3ec655136df5"
      },
      "source": [
        "predict('Damage to school bus on 80 in multi car crash #BREAKING')"
      ],
      "execution_count": 217,
      "outputs": [
        {
          "output_type": "execute_result",
          "data": {
            "application/vnd.google.colaboratory.intrinsic+json": {
              "type": "string"
            },
            "text/plain": [
              "'Disaster'"
            ]
          },
          "metadata": {
            "tags": []
          },
          "execution_count": 217
        }
      ]
    }
  ]
}